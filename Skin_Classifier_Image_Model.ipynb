{
  "nbformat": 4,
  "nbformat_minor": 0,
  "metadata": {
    "accelerator": "GPU",
    "colab": {
      "name": "Skin-Classifier-Image-Model.ipynb",
      "provenance": [],
      "collapsed_sections": [],
      "toc_visible": true,
      "mount_file_id": "1E0_UqZcDKYSiFgs_Dc9F3pNtKFIX7sqr",
      "authorship_tag": "ABX9TyOVOWIrG1PP2Dr+bUG7UuUC",
      "include_colab_link": true
    },
    "kernelspec": {
      "display_name": "Python 3",
      "name": "python3"
    }
  },
  "cells": [
    {
      "cell_type": "markdown",
      "metadata": {
        "id": "view-in-github",
        "colab_type": "text"
      },
      "source": [
        "<a href=\"https://colab.research.google.com/github/malraharsh/temp2/blob/master/Skin_Classifier_Image_Model.ipynb\" target=\"_parent\"><img src=\"https://colab.research.google.com/assets/colab-badge.svg\" alt=\"Open In Colab\"/></a>"
      ]
    },
    {
      "cell_type": "code",
      "metadata": {
        "id": "CBw4l30ELTuZ"
      },
      "source": [
        "import torch\r\n",
        "from torch import nn\r\n",
        "import torch.nn.functional as F\r\n",
        "import torchvision\r\n",
        "import torchvision.transforms as transforms\r\n",
        "import numpy as np\r\n",
        "import os\r\n",
        "\r\n",
        "import pandas as pd\r\n",
        "import shutil\r\n",
        "import numpy as np\r\n",
        "from keras.preprocessing.image import ImageDataGenerator\r\n",
        "import os\r\n",
        "from sklearn.model_selection import train_test_split\r\n",
        "import shutil\r\n",
        "import tensorflow as tf\r\n",
        "import numpy as np\r\n",
        "import keras\r\n",
        "from keras import backend as K\r\n",
        "from tensorflow.keras.layers import Dense, Dropout\r\n",
        "from tensorflow.keras.optimizers import Adam\r\n",
        "from keras.preprocessing.image import ImageDataGenerator\r\n",
        "from tensorflow.keras.models import Model\r\n",
        "from tensorflow.keras.callbacks import ReduceLROnPlateau, ModelCheckpoint\r\n",
        "from sklearn.metrics import confusion_matrix\r\n",
        "import itertools\r\n",
        "import matplotlib.pyplot as plt\r\n",
        "\r\n",
        "import numpy as np\r\n",
        "import pandas as pd\r\n",
        "from sklearn.model_selection import train_test_split\r\n",
        "from sklearn.metrics import confusion_matrix, precision_recall_fscore_support\r\n",
        "import scipy.ndimage\r\n",
        "from scipy import misc\r\n",
        "from glob import glob\r\n",
        "from scipy import stats\r\n",
        "from sklearn.preprocessing import LabelEncoder, StandardScaler\r\n",
        "import skimage\r\n",
        "import imageio\r\n",
        "import seaborn as sns\r\n",
        "from PIL import Image\r\n",
        "import glob\r\n",
        "import matplotlib.pyplot as plt\r\n",
        "import matplotlib\r\n",
        "\r\n",
        "%matplotlib inline"
      ],
      "execution_count": null,
      "outputs": []
    },
    {
      "cell_type": "code",
      "metadata": {
        "id": "ImnWVwfJS0vc"
      },
      "source": [
        "%mkdir -p others data"
      ],
      "execution_count": null,
      "outputs": []
    },
    {
      "cell_type": "code",
      "metadata": {
        "id": "jzIO3e-uziBU"
      },
      "source": [
        "!cp -n '/content/drive/MyDrive/Internship/Images zip.zip' /content/others/\r\n",
        "!cp -n /content/drive/MyDrive/Internship/*.csv /content/data/"
      ],
      "execution_count": null,
      "outputs": []
    },
    {
      "cell_type": "code",
      "metadata": {
        "id": "6S1VWKoK17bC"
      },
      "source": [
        "%%capture\r\n",
        "!unzip -n '/content/others/Images zip.zip'"
      ],
      "execution_count": null,
      "outputs": []
    },
    {
      "cell_type": "code",
      "metadata": {
        "id": "cW9UHl6XSmcn"
      },
      "source": [
        "path_data = '/content/Images' #os.getcwd() + \"/HAM10000\"\r\n",
        "# path_metadata = '/content/HAM10000_metadata.csv'"
      ],
      "execution_count": null,
      "outputs": []
    },
    {
      "cell_type": "code",
      "metadata": {
        "id": "BYK32NJATL-Q"
      },
      "source": [
        "to_use = ['Herpes Simplex', 'Acne', 'Folliculitis', 'Alopecia', 'Drug Eruption']\r\n",
        "# to_use = ['Folliculitis', 'Alopecia', 'Drug Eruption']"
      ],
      "execution_count": null,
      "outputs": []
    },
    {
      "cell_type": "code",
      "metadata": {
        "colab": {
          "base_uri": "https://localhost:8080/"
        },
        "id": "xhjcYp-SRkPn",
        "outputId": "5e9936ba-624e-4389-be09-7a7a3b1591c0"
      },
      "source": [
        "labels = to_use\r\n",
        "labels"
      ],
      "execution_count": null,
      "outputs": [
        {
          "output_type": "execute_result",
          "data": {
            "text/plain": [
              "['Herpes Simplex', 'Acne', 'Folliculitis', 'Alopecia', 'Drug Eruption']"
            ]
          },
          "metadata": {
            "tags": []
          },
          "execution_count": 7
        }
      ]
    },
    {
      "cell_type": "code",
      "metadata": {
        "id": "yEJ-J0MZq6ro"
      },
      "source": [
        "path_root = '/content/'\r\n",
        "path_dest = '/content/destination'\r\n",
        "path_train = path_root + 'train'\r\n",
        "path_test = path_root + 'test'"
      ],
      "execution_count": null,
      "outputs": []
    },
    {
      "cell_type": "markdown",
      "metadata": {
        "id": "xz8be-52QkHK"
      },
      "source": [
        "# Image"
      ]
    },
    {
      "cell_type": "code",
      "metadata": {
        "id": "UUbBbsZEOrtK"
      },
      "source": [
        "# delete extra\r\n",
        "for folder in os.listdir(path_data):\r\n",
        "    if folder in to_use: continue\r\n",
        "    folder = os.path.join(path_data, folder)\r\n",
        "    print(folder)\r\n",
        "    !rm -r \"$folder\""
      ],
      "execution_count": null,
      "outputs": []
    },
    {
      "cell_type": "code",
      "metadata": {
        "colab": {
          "base_uri": "https://localhost:8080/"
        },
        "id": "qEpwJaxB_mPU",
        "outputId": "f74f9865-f378-499d-8455-51f0556444b5"
      },
      "source": [
        "counts = []\r\n",
        "for l in to_use:\r\n",
        "    cnt = len(os.listdir(os.path.join(path_data, l)))\r\n",
        "    counts.extend([l] * cnt)\r\n",
        "    print(f'{l} - {cnt}')"
      ],
      "execution_count": null,
      "outputs": [
        {
          "output_type": "stream",
          "text": [
            "Herpes Simplex - 653\n",
            "Acne - 436\n",
            "Folliculitis - 128\n",
            "Alopecia - 104\n",
            "Drug Eruption - 210\n"
          ],
          "name": "stdout"
        }
      ]
    },
    {
      "cell_type": "code",
      "metadata": {
        "id": "QO7fiMvNegvL"
      },
      "source": [
        "datagen_train = ImageDataGenerator(\r\n",
        "        rotation_range=30,\r\n",
        "        width_shift_range=0.3,\r\n",
        "        height_shift_range=0.3,\r\n",
        "        zoom_range=0.3,\r\n",
        "        horizontal_flip=True,\r\n",
        "        # vertical_flip=True,\r\n",
        "        # brightness_range=(0.9,1.1),\r\n",
        "        fill_mode='nearest',\r\n",
        "        preprocessing_function= keras.applications.mobilenet.preprocess_input)\r\n",
        "\r\n",
        "datagen_test = ImageDataGenerator(preprocessing_function= keras.applications.mobilenet.preprocess_input)"
      ],
      "execution_count": null,
      "outputs": []
    },
    {
      "cell_type": "code",
      "metadata": {
        "id": "JzmrKHsBr-Lz"
      },
      "source": [
        "num_train_samples = len(counts)\r\n",
        "num_test_samples = len(counts)\r\n",
        "train_batch_size = 32\r\n",
        "test_batch_size = 32\r\n",
        "image_shape = (224, 224)"
      ],
      "execution_count": null,
      "outputs": []
    },
    {
      "cell_type": "code",
      "metadata": {
        "id": "xk6OGXvv8ohl"
      },
      "source": [
        "train_steps = np.ceil(num_train_samples / train_batch_size)\r\n",
        "test_steps = np.ceil(num_test_samples / test_batch_size)"
      ],
      "execution_count": null,
      "outputs": []
    },
    {
      "cell_type": "code",
      "metadata": {
        "colab": {
          "base_uri": "https://localhost:8080/"
        },
        "id": "p6bd1ZGbsNFu",
        "outputId": "2735e407-dc70-470b-b71a-3284ada0b812"
      },
      "source": [
        "batches_train = datagen_train.flow_from_directory(\r\n",
        "                                directory=path_data,\r\n",
        "                                # subset=\"training\",\r\n",
        "                                batch_size=train_batch_size,\r\n",
        "                                seed=42,\r\n",
        "                                shuffle=True,\r\n",
        "                                class_mode=\"categorical\",\r\n",
        "                                target_size=image_shape)\r\n",
        "\r\n",
        "batches_test = datagen_test.flow_from_directory(\r\n",
        "                                directory=path_data,\r\n",
        "                                # subset=\"training\",\r\n",
        "                                batch_size=train_batch_size,\r\n",
        "                                seed=42,\r\n",
        "                                shuffle=False,\r\n",
        "                                class_mode=\"categorical\",\r\n",
        "                                target_size=image_shape)"
      ],
      "execution_count": null,
      "outputs": [
        {
          "output_type": "stream",
          "text": [
            "Found 1531 images belonging to 5 classes.\n",
            "Found 1531 images belonging to 5 classes.\n"
          ],
          "name": "stdout"
        }
      ]
    },
    {
      "cell_type": "code",
      "metadata": {
        "colab": {
          "base_uri": "https://localhost:8080/"
        },
        "id": "0W9fn_Mh5i_Q",
        "outputId": "cd425b45-e414-43a9-a3c8-77a44f5e3750"
      },
      "source": [
        "batches_train.class_indices"
      ],
      "execution_count": null,
      "outputs": [
        {
          "output_type": "execute_result",
          "data": {
            "text/plain": [
              "{'Acne': 0,\n",
              " 'Alopecia': 1,\n",
              " 'Drug Eruption': 2,\n",
              " 'Folliculitis': 3,\n",
              " 'Herpes Simplex': 4}"
            ]
          },
          "metadata": {
            "tags": []
          },
          "execution_count": 15
        }
      ]
    },
    {
      "cell_type": "markdown",
      "metadata": {
        "id": "ab6pmUhYgn5-"
      },
      "source": [
        "Class Weights"
      ]
    },
    {
      "cell_type": "code",
      "metadata": {
        "id": "Jg0ye4_egnTL"
      },
      "source": [
        "from sklearn.utils import class_weight"
      ],
      "execution_count": null,
      "outputs": []
    },
    {
      "cell_type": "code",
      "metadata": {
        "id": "MVzayYK2gqC1"
      },
      "source": [
        "class_weights = class_weight.compute_class_weight('balanced',\r\n",
        "                                                 np.unique(batches_train.classes),\r\n",
        "                                                 batches_train.classes)\r\n",
        "class_weights = dict(enumerate(class_weights))"
      ],
      "execution_count": null,
      "outputs": []
    },
    {
      "cell_type": "code",
      "metadata": {
        "colab": {
          "base_uri": "https://localhost:8080/"
        },
        "id": "wS794BMjhHJ7",
        "outputId": "385c0420-c7ef-4719-c2f5-29189b807a89"
      },
      "source": [
        "class_weights"
      ],
      "execution_count": null,
      "outputs": [
        {
          "output_type": "execute_result",
          "data": {
            "text/plain": [
              "{0: 0.7022935779816514,\n",
              " 1: 2.9442307692307694,\n",
              " 2: 1.458095238095238,\n",
              " 3: 2.3921875,\n",
              " 4: 0.4689127105666156}"
            ]
          },
          "metadata": {
            "tags": []
          },
          "execution_count": 40
        }
      ]
    },
    {
      "cell_type": "markdown",
      "metadata": {
        "id": "ZXxvBn4KjI23"
      },
      "source": [
        "# Models"
      ]
    },
    {
      "cell_type": "code",
      "metadata": {
        "id": "_oeJX4Jn9XL9"
      },
      "source": [
        "import os\r\n",
        "import cv2\r\n",
        "import requests\r\n",
        "import numpy as np\r\n",
        "import pandas as pd\r\n",
        "from tensorflow import keras\r\n",
        "from tensorflow.keras.models import Model\r\n",
        "from tensorflow.keras import layers\r\n",
        "from tensorflow.keras.preprocessing.image import img_to_array\r\n",
        "from tensorflow.keras.preprocessing import image\r\n",
        "from tensorflow.keras.utils import to_categorical\r\n",
        "from tensorflow.keras.applications import vgg16\r\n",
        "from tensorflow.keras.layers import Flatten, Dense, BatchNormalization, Dropout\r\n",
        "from tensorflow.keras.optimizers import Adam\r\n",
        "from tensorflow.keras.callbacks import ModelCheckpoint\r\n",
        "from sklearn.model_selection import train_test_split\r\n",
        "# import scikitplot as skplt\r\n",
        "import matplotlib.pyplot as plt\r\n",
        "import seaborn as sns\r\n",
        "%matplotlib inline"
      ],
      "execution_count": null,
      "outputs": []
    },
    {
      "cell_type": "code",
      "metadata": {
        "colab": {
          "base_uri": "https://localhost:8080/"
        },
        "id": "fl5177lN7z4D",
        "outputId": "83f2d603-7a64-4fb2-d5fe-86923a8eb70a"
      },
      "source": [
        "# base_model = tf.keras.applications.VGG16(include_top=False, weights='imagenet', input_shape=image_shape + (3,))\r\n",
        "base_model = tf.keras.applications.mobilenet.MobileNet()"
      ],
      "execution_count": null,
      "outputs": [
        {
          "output_type": "stream",
          "text": [
            "Downloading data from https://storage.googleapis.com/tensorflow/keras-applications/mobilenet/mobilenet_1_0_224_tf.h5\n",
            "17227776/17225924 [==============================] - 0s 0us/step\n"
          ],
          "name": "stdout"
        }
      ]
    },
    {
      "cell_type": "code",
      "metadata": {
        "id": "xcdaoC7h8FcM"
      },
      "source": [
        "for layer in base_model.layers[:-23]:\r\n",
        "     layer.trainable = False\r\n",
        "\r\n",
        "top = tf.keras.Sequential()\r\n",
        "top.add(Flatten())\r\n",
        "top.add(Dense(512, activation = 'relu'))\r\n",
        "top.add(BatchNormalization())\r\n",
        "top.add(Dropout(0.5))\r\n",
        "top.add(Dense(256, activation = 'relu'))\r\n",
        "top.add(BatchNormalization())\r\n",
        "top.add(Dropout(0.5))\r\n",
        "top.add(Dense(256, activation = 'relu'))\r\n",
        "top.add(BatchNormalization())\r\n",
        "top.add(Dropout(0.5))\r\n",
        "top.add(Dense(128, activation = 'relu'))\r\n",
        "top.add(BatchNormalization())\r\n",
        "top.add(Dropout(0.25))\r\n",
        "top.add(Dense(len(labels), activation = 'softmax'))\r\n",
        "\r\n",
        "# top.compile(optimizer=tf.keras.optimizers.Adam(), \r\n",
        "#               loss=keras.losses.categorical_crossentropy, \r\n",
        "#               metrics=['accuracy'])\r\n",
        "\r\n",
        "# top.summary()"
      ],
      "execution_count": null,
      "outputs": []
    },
    {
      "cell_type": "code",
      "metadata": {
        "id": "pNH-BMsx-Foq"
      },
      "source": [
        "x = base_model.layers[-6].output\r\n",
        "outputs = top(x)"
      ],
      "execution_count": null,
      "outputs": []
    },
    {
      "cell_type": "code",
      "metadata": {
        "id": "TyJ_g0Ta-For"
      },
      "source": [
        "model = Model(inputs=base_model.input, outputs=outputs)"
      ],
      "execution_count": null,
      "outputs": []
    },
    {
      "cell_type": "code",
      "metadata": {
        "id": "Trd1xfR_k1ah"
      },
      "source": [
        "# model.summary()"
      ],
      "execution_count": null,
      "outputs": []
    },
    {
      "cell_type": "code",
      "metadata": {
        "id": "JwE30Z2Em5j_"
      },
      "source": [
        "from keras.metrics import categorical_accuracy, top_k_categorical_accuracy\r\n",
        "\r\n",
        "def top_3_accuracy(y_true, y_pred):\r\n",
        "    return top_k_categorical_accuracy(y_true, y_pred, k=3)\r\n",
        "\r\n",
        "def top_2_accuracy(y_true, y_pred):\r\n",
        "    return top_k_categorical_accuracy(y_true, y_pred, k=2)\r\n",
        "\r\n",
        "model.compile(Adam(lr=0.01), loss='categorical_crossentropy', metrics=[categorical_accuracy, top_2_accuracy, top_3_accuracy])\r\n",
        "\r\n",
        "filepath = \"model.h5\"\r\n",
        "\r\n",
        "checkpoint = ModelCheckpoint(filepath, monitor='val_top_3_accuracy', verbose=1,\r\n",
        "                             save_best_only=True, mode='max')\r\n",
        "\r\n",
        "reduce_lr = ReduceLROnPlateau(monitor='val_top_3_accuracy', factor=0.5, patience=2,\r\n",
        "                              verbose=1, mode='max', min_lr=0.00001)\r\n",
        "\r\n",
        "callbacks = [checkpoint, reduce_lr]\r\n"
      ],
      "execution_count": null,
      "outputs": []
    },
    {
      "cell_type": "code",
      "metadata": {
        "id": "ozb1oi951pGL"
      },
      "source": [
        "# !cp /content/drive/MyDrive/Files/dermasync/model_c5.h5 /content/model.h5\r\n",
        "# model.load_weights('/content/model.h5')"
      ],
      "execution_count": null,
      "outputs": []
    },
    {
      "cell_type": "code",
      "metadata": {
        "id": "IuaurLB0iBnj"
      },
      "source": [
        "# model = tf.keras.models.load_model('model.h5', compile=False)"
      ],
      "execution_count": null,
      "outputs": []
    },
    {
      "cell_type": "code",
      "metadata": {
        "id": "pZuDtsyxXdj8"
      },
      "source": [
        "class_weights = {\r\n",
        "    0: 0.7022935779816514,\r\n",
        "    1: 2.9442307692307694,\r\n",
        "    2: 3,\r\n",
        "    3: 3,\r\n",
        "    4: 0.4689127105666156}"
      ],
      "execution_count": null,
      "outputs": []
    },
    {
      "cell_type": "code",
      "metadata": {
        "colab": {
          "base_uri": "https://localhost:8080/"
        },
        "id": "pXCqBpjHzxXG",
        "outputId": "111fd014-e99a-4a7f-b03d-523abf8c8f21"
      },
      "source": [
        "history = model.fit(batches_train,\r\n",
        "                    steps_per_epoch=train_steps,\r\n",
        "                    class_weight=class_weights,\r\n",
        "                    validation_data=batches_test,\r\n",
        "                    validation_steps=test_steps,\r\n",
        "                    epochs=10,\r\n",
        "                    # shuffle=True,#\r\n",
        "                    verbose=1,\r\n",
        "                    # callbacks=callbacks\r\n",
        "                    )"
      ],
      "execution_count": null,
      "outputs": [
        {
          "output_type": "stream",
          "text": [
            "Epoch 1/10\n",
            "48/48 [==============================] - 20s 419ms/step - loss: 0.5692 - categorical_accuracy: 0.7975 - top_2_accuracy: 0.9438 - top_3_accuracy: 0.9804 - val_loss: 1.1151 - val_categorical_accuracy: 0.6675 - val_top_2_accuracy: 0.8086 - val_top_3_accuracy: 0.9693\n",
            "Epoch 2/10\n",
            "48/48 [==============================] - 20s 418ms/step - loss: 0.5244 - categorical_accuracy: 0.8001 - top_2_accuracy: 0.9484 - top_3_accuracy: 0.9824 - val_loss: 1.1122 - val_categorical_accuracy: 0.6799 - val_top_2_accuracy: 0.8687 - val_top_3_accuracy: 0.9419\n",
            "Epoch 3/10\n",
            "48/48 [==============================] - 20s 415ms/step - loss: 0.4192 - categorical_accuracy: 0.8432 - top_2_accuracy: 0.9621 - top_3_accuracy: 0.9889 - val_loss: 0.6664 - val_categorical_accuracy: 0.8145 - val_top_2_accuracy: 0.9549 - val_top_3_accuracy: 0.9915\n",
            "Epoch 4/10\n",
            "48/48 [==============================] - 20s 418ms/step - loss: 0.3952 - categorical_accuracy: 0.8406 - top_2_accuracy: 0.9595 - top_3_accuracy: 0.9882 - val_loss: 0.4806 - val_categorical_accuracy: 0.8354 - val_top_2_accuracy: 0.9693 - val_top_3_accuracy: 0.9928\n",
            "Epoch 5/10\n",
            "48/48 [==============================] - 20s 414ms/step - loss: 0.4745 - categorical_accuracy: 0.8295 - top_2_accuracy: 0.9615 - top_3_accuracy: 0.9869 - val_loss: 0.3990 - val_categorical_accuracy: 0.8785 - val_top_2_accuracy: 0.9556 - val_top_3_accuracy: 0.9895\n",
            "Epoch 6/10\n",
            "48/48 [==============================] - 20s 414ms/step - loss: 0.4241 - categorical_accuracy: 0.8445 - top_2_accuracy: 0.9634 - top_3_accuracy: 0.9882 - val_loss: 1.4350 - val_categorical_accuracy: 0.5905 - val_top_2_accuracy: 0.8008 - val_top_3_accuracy: 0.9641\n",
            "Epoch 7/10\n",
            "48/48 [==============================] - 20s 414ms/step - loss: 0.4191 - categorical_accuracy: 0.8393 - top_2_accuracy: 0.9543 - top_3_accuracy: 0.9869 - val_loss: 0.7258 - val_categorical_accuracy: 0.7662 - val_top_2_accuracy: 0.9412 - val_top_3_accuracy: 0.9811\n",
            "Epoch 8/10\n",
            "48/48 [==============================] - 20s 415ms/step - loss: 0.3563 - categorical_accuracy: 0.8609 - top_2_accuracy: 0.9673 - top_3_accuracy: 0.9869 - val_loss: 0.4088 - val_categorical_accuracy: 0.8661 - val_top_2_accuracy: 0.9706 - val_top_3_accuracy: 0.9909\n",
            "Epoch 9/10\n",
            "48/48 [==============================] - 20s 415ms/step - loss: 0.3936 - categorical_accuracy: 0.8445 - top_2_accuracy: 0.9602 - top_3_accuracy: 0.9882 - val_loss: 1.4475 - val_categorical_accuracy: 0.6767 - val_top_2_accuracy: 0.8837 - val_top_3_accuracy: 0.9471\n",
            "Epoch 10/10\n",
            "48/48 [==============================] - 20s 416ms/step - loss: 0.4361 - categorical_accuracy: 0.8517 - top_2_accuracy: 0.9510 - top_3_accuracy: 0.9843 - val_loss: 1.6177 - val_categorical_accuracy: 0.6094 - val_top_2_accuracy: 0.7655 - val_top_3_accuracy: 0.8811\n"
          ],
          "name": "stdout"
        }
      ]
    },
    {
      "cell_type": "code",
      "metadata": {
        "id": "b8vYpgcylAsX"
      },
      "source": [
        "model.save('model.h5')"
      ],
      "execution_count": null,
      "outputs": []
    },
    {
      "cell_type": "code",
      "metadata": {
        "id": "RzDq4-mC_c61"
      },
      "source": [
        "!cp /content/model.h5 /content/drive/MyDrive/Files/dermasync/model_5class_best.h5"
      ],
      "execution_count": null,
      "outputs": []
    },
    {
      "cell_type": "code",
      "metadata": {
        "id": "6MfA-ZmLQ0Fr"
      },
      "source": [
        "from sklearn.metrics import precision_score, accuracy_score, confusion_matrix, classification_report"
      ],
      "execution_count": null,
      "outputs": []
    },
    {
      "cell_type": "code",
      "metadata": {
        "colab": {
          "base_uri": "https://localhost:8080/"
        },
        "id": "HKhRIpCMRYtB",
        "outputId": "77abd57f-32e7-49f3-c3de-654b03d3f98d"
      },
      "source": [
        "pred_images = y_pred = model.predict(batches_test, verbose=1)"
      ],
      "execution_count": null,
      "outputs": [
        {
          "output_type": "stream",
          "text": [
            "48/48 [==============================] - 3s 62ms/step\n"
          ],
          "name": "stdout"
        }
      ]
    },
    {
      "cell_type": "code",
      "metadata": {
        "id": "WABA-lZoQt4F"
      },
      "source": [
        "#add shuffle"
      ],
      "execution_count": null,
      "outputs": []
    },
    {
      "cell_type": "code",
      "metadata": {
        "id": "UCins5l9cXKS"
      },
      "source": [
        "y_pred = np.argmax(y_pred, axis=1)"
      ],
      "execution_count": null,
      "outputs": []
    },
    {
      "cell_type": "code",
      "metadata": {
        "colab": {
          "base_uri": "https://localhost:8080/"
        },
        "id": "J0yqtTcdRjiU",
        "outputId": "7431ab84-d3b1-4013-ead4-a13eaa706274"
      },
      "source": [
        "label2idx = batches_test.class_indices\r\n",
        "idx2label = {v:k for k, v in label2idx.items()}\r\n",
        "idx2label"
      ],
      "execution_count": null,
      "outputs": [
        {
          "output_type": "execute_result",
          "data": {
            "text/plain": [
              "{0: 'Acne',\n",
              " 1: 'Alopecia',\n",
              " 2: 'Drug Eruption',\n",
              " 3: 'Folliculitis',\n",
              " 4: 'Herpes Simplex'}"
            ]
          },
          "metadata": {
            "tags": []
          },
          "execution_count": 78
        }
      ]
    },
    {
      "cell_type": "code",
      "metadata": {
        "id": "out4rC-wXtLo"
      },
      "source": [
        "y_true = np.array(batches_test.classes)"
      ],
      "execution_count": null,
      "outputs": []
    },
    {
      "cell_type": "code",
      "metadata": {
        "colab": {
          "base_uri": "https://localhost:8080/"
        },
        "id": "xdgYIy2MT69V",
        "outputId": "55bfa501-bfff-4b1c-accb-48ef9e741992"
      },
      "source": [
        "accuracy_score(y_true, y_pred)"
      ],
      "execution_count": null,
      "outputs": [
        {
          "output_type": "execute_result",
          "data": {
            "text/plain": [
              "0.6094056172436316"
            ]
          },
          "metadata": {
            "tags": []
          },
          "execution_count": 80
        }
      ]
    },
    {
      "cell_type": "code",
      "metadata": {
        "colab": {
          "base_uri": "https://localhost:8080/"
        },
        "id": "4gR6xtI3dEZf",
        "outputId": "175bdee4-1bc7-4f0f-c285-1d8a6b6fef6f"
      },
      "source": [
        "precision_score(y_true, y_pred, average='weighted')"
      ],
      "execution_count": null,
      "outputs": [
        {
          "output_type": "execute_result",
          "data": {
            "text/plain": [
              "0.7799701810625994"
            ]
          },
          "metadata": {
            "tags": []
          },
          "execution_count": 81
        }
      ]
    },
    {
      "cell_type": "code",
      "metadata": {
        "colab": {
          "base_uri": "https://localhost:8080/"
        },
        "id": "BUXLq7wTRh-d",
        "outputId": "f3dc05c2-ae5d-45d4-b14a-32c43d92423d"
      },
      "source": [
        "confusion_matrix(y_true, y_pred)"
      ],
      "execution_count": null,
      "outputs": [
        {
          "output_type": "execute_result",
          "data": {
            "text/plain": [
              "array([[400,  16,   0,  20,   0],\n",
              "       [  0, 104,   0,   0,   0],\n",
              "       [  8,  43, 144,  15,   0],\n",
              "       [  0,  14,   0, 114,   0],\n",
              "       [198, 154,  48,  82, 171]])"
            ]
          },
          "metadata": {
            "tags": []
          },
          "execution_count": 82
        }
      ]
    },
    {
      "cell_type": "code",
      "metadata": {
        "colab": {
          "base_uri": "https://localhost:8080/"
        },
        "id": "M3BBR1_ppRU-",
        "outputId": "0d6194af-13d9-40c2-83af-dbd1458fd7e6"
      },
      "source": [
        "print(classification_report(y_true, y_pred))"
      ],
      "execution_count": null,
      "outputs": [
        {
          "output_type": "stream",
          "text": [
            "              precision    recall  f1-score   support\n",
            "\n",
            "           0       0.66      0.92      0.77       436\n",
            "           1       0.31      1.00      0.48       104\n",
            "           2       0.75      0.69      0.72       210\n",
            "           3       0.49      0.89      0.64       128\n",
            "           4       1.00      0.26      0.42       653\n",
            "\n",
            "    accuracy                           0.61      1531\n",
            "   macro avg       0.64      0.75      0.60      1531\n",
            "weighted avg       0.78      0.61      0.58      1531\n",
            "\n"
          ],
          "name": "stdout"
        }
      ]
    },
    {
      "cell_type": "code",
      "metadata": {
        "id": "eTr4TanKkMQ5"
      },
      "source": [
        ""
      ],
      "execution_count": null,
      "outputs": []
    }
  ]
}