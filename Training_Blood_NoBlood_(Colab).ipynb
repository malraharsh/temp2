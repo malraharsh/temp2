{
  "nbformat": 4,
  "nbformat_minor": 0,
  "metadata": {
    "colab": {
      "name": "Training Blood NoBlood (Colab).ipynb",
      "provenance": [],
      "collapsed_sections": [],
      "mount_file_id": "1VRwsdydnc-b6Ggy1Hm-iDTt9ciAl0-ms",
      "authorship_tag": "ABX9TyN+r4JUhrSbRMSZ7PgVjA8B",
      "include_colab_link": true
    },
    "kernelspec": {
      "name": "python3",
      "display_name": "Python 3"
    },
    "accelerator": "GPU"
  },
  "cells": [
    {
      "cell_type": "markdown",
      "metadata": {
        "id": "view-in-github",
        "colab_type": "text"
      },
      "source": [
        "<a href=\"https://colab.research.google.com/github/malraharsh/temp2/blob/master/Training_Blood_NoBlood_(Colab).ipynb\" target=\"_parent\"><img src=\"https://colab.research.google.com/assets/colab-badge.svg\" alt=\"Open In Colab\"/></a>"
      ]
    },
    {
      "cell_type": "code",
      "metadata": {
        "id": "HuAjqB5RWkkQ"
      },
      "source": [
        "import argparse\n",
        "import os\n",
        "import random\n",
        "\n",
        "import numpy as np\n",
        "import pandas as pd\n",
        "\n",
        "import matplotlib.pyplot as plt\n",
        "from imutils import paths\n",
        "from sklearn.metrics import (accuracy_score, classification_report,\n",
        "                             confusion_matrix)\n",
        "from sklearn.model_selection import train_test_split\n",
        "from sklearn.preprocessing import LabelBinarizer\n",
        "from tensorflow.keras.applications import MobileNetV2\n",
        "from tensorflow.keras.applications.mobilenet_v2 import preprocess_input\n",
        "from tensorflow.keras.layers import (\n",
        "    AveragePooling2D, Dense, Dropout, Flatten, Input, MaxPooling2D)\n",
        "from tensorflow.keras.models import Model, load_model, Sequential\n",
        "from tensorflow.keras.optimizers import Adam\n",
        "from tensorflow.keras.preprocessing.image import (ImageDataGenerator,\n",
        "                                                  img_to_array, load_img)\n",
        "from tensorflow.keras.utils import to_categorical\n",
        "\n",
        "from PIL import Image"
      ],
      "execution_count": 28,
      "outputs": []
    },
    {
      "cell_type": "code",
      "metadata": {
        "id": "C3OaXrcdfq1E"
      },
      "source": [
        "import zipfile\n",
        "zip = zipfile.ZipFile('/content/drive/My Drive/Others/Blood_noblood.zip','r')\n",
        "zip.extractall('/content/')\n",
        "zip.close()"
      ],
      "execution_count": null,
      "outputs": []
    },
    {
      "cell_type": "code",
      "metadata": {
        "id": "zVTnxrHsX7Li"
      },
      "source": [
        "data_dir = 'Blood_noblood'\n",
        "blood_dir = os.path.join(data_dir, 'blood')\n",
        "noblood_dir = os.path.join(data_dir, 'noblood')"
      ],
      "execution_count": 11,
      "outputs": []
    },
    {
      "cell_type": "code",
      "metadata": {
        "id": "AiQFTUREYzyi"
      },
      "source": [
        "def getFiles(path):\n",
        "    return ([os.path.join(path, p) for p in os.listdir(path)])\n",
        "\n",
        "def getCorrupted(df):\n",
        "    corrupted = []\n",
        "    for impath in df.files:\n",
        "        try:\n",
        "            plt.imread(impath)\n",
        "        except:\n",
        "            corrupted.append(impath)\n",
        "    return corrupted\n",
        "            \n",
        "def removeCorrupted(df, corrupted):\n",
        "    todrop = df[[f in corrupted for f in df['files']]].index\n",
        "    print(\"Removed {}\".format(len(corrupted)))\n",
        "    return df.drop(todrop)\n"
      ],
      "execution_count": 36,
      "outputs": []
    },
    {
      "cell_type": "code",
      "metadata": {
        "id": "NRMskf8hY0-P",
        "outputId": "7d75d5ed-49bd-48b7-b1be-f502bd9a54c7",
        "colab": {
          "base_uri": "https://localhost:8080/",
          "height": 50
        }
      },
      "source": [
        "df_blood = pd.DataFrame({'files': getFiles(blood_dir), 'labels': '1'})\n",
        "df_noblood = pd.DataFrame({'files': getFiles(noblood_dir), 'labels': '0'})\n",
        "\n",
        "corrupted_blood = getCorrupted(df_blood)\n",
        "corrupted_noblood = getCorrupted(df_noblood)\n",
        "\n",
        "df_blood = removeCorrupted(df_blood, corrupted_blood)\n",
        "df_noblood = removeCorrupted(df_noblood, corrupted_noblood)"
      ],
      "execution_count": 39,
      "outputs": [
        {
          "output_type": "stream",
          "text": [
            "Removed 0\n",
            "Removed 1\n"
          ],
          "name": "stdout"
        }
      ]
    },
    {
      "cell_type": "code",
      "metadata": {
        "id": "t2Emg1cYY9G9",
        "outputId": "f3cc50c7-f9be-4fd8-a52e-965ef5b221ac",
        "colab": {
          "base_uri": "https://localhost:8080/",
          "height": 195
        }
      },
      "source": [
        "df = pd.concat([df_blood, df_noblood])\n",
        "df.reset_index(drop=True, inplace=True)\n",
        "df.head()"
      ],
      "execution_count": 40,
      "outputs": [
        {
          "output_type": "execute_result",
          "data": {
            "text/html": [
              "<div>\n",
              "<style scoped>\n",
              "    .dataframe tbody tr th:only-of-type {\n",
              "        vertical-align: middle;\n",
              "    }\n",
              "\n",
              "    .dataframe tbody tr th {\n",
              "        vertical-align: top;\n",
              "    }\n",
              "\n",
              "    .dataframe thead th {\n",
              "        text-align: right;\n",
              "    }\n",
              "</style>\n",
              "<table border=\"1\" class=\"dataframe\">\n",
              "  <thead>\n",
              "    <tr style=\"text-align: right;\">\n",
              "      <th></th>\n",
              "      <th>files</th>\n",
              "      <th>labels</th>\n",
              "    </tr>\n",
              "  </thead>\n",
              "  <tbody>\n",
              "    <tr>\n",
              "      <th>0</th>\n",
              "      <td>Blood_noblood/blood/blood_181.jpg</td>\n",
              "      <td>1</td>\n",
              "    </tr>\n",
              "    <tr>\n",
              "      <th>1</th>\n",
              "      <td>Blood_noblood/blood/blood_182.jpg</td>\n",
              "      <td>1</td>\n",
              "    </tr>\n",
              "    <tr>\n",
              "      <th>2</th>\n",
              "      <td>Blood_noblood/blood/blood_27.jpg</td>\n",
              "      <td>1</td>\n",
              "    </tr>\n",
              "    <tr>\n",
              "      <th>3</th>\n",
              "      <td>Blood_noblood/blood/blood_377.jpg</td>\n",
              "      <td>1</td>\n",
              "    </tr>\n",
              "    <tr>\n",
              "      <th>4</th>\n",
              "      <td>Blood_noblood/blood/blood_110.jpg</td>\n",
              "      <td>1</td>\n",
              "    </tr>\n",
              "  </tbody>\n",
              "</table>\n",
              "</div>"
            ],
            "text/plain": [
              "                               files labels\n",
              "0  Blood_noblood/blood/blood_181.jpg      1\n",
              "1  Blood_noblood/blood/blood_182.jpg      1\n",
              "2   Blood_noblood/blood/blood_27.jpg      1\n",
              "3  Blood_noblood/blood/blood_377.jpg      1\n",
              "4  Blood_noblood/blood/blood_110.jpg      1"
            ]
          },
          "metadata": {
            "tags": []
          },
          "execution_count": 40
        }
      ]
    },
    {
      "cell_type": "code",
      "metadata": {
        "id": "jW-dHT9GbRvJ"
      },
      "source": [
        "# sample = df.loc[0][0]\n",
        "# Image.open(sample)"
      ],
      "execution_count": 35,
      "outputs": []
    },
    {
      "cell_type": "code",
      "metadata": {
        "id": "1oG-OQ98Y98w",
        "outputId": "5e5d4220-f783-437f-9a7d-7f3352f93036",
        "colab": {
          "base_uri": "https://localhost:8080/",
          "height": 279
        }
      },
      "source": [
        "df['labels'].value_counts().plot.bar()"
      ],
      "execution_count": 41,
      "outputs": [
        {
          "output_type": "execute_result",
          "data": {
            "text/plain": [
              "<matplotlib.axes._subplots.AxesSubplot at 0x7fe0ee866c88>"
            ]
          },
          "metadata": {
            "tags": []
          },
          "execution_count": 41
        },
        {
          "output_type": "display_data",
          "data": {
            "image/png": "[encoded data removed]",
            "text/plain": [
              "<Figure size 432x288 with 1 Axes>"
            ]
          },
          "metadata": {
            "tags": [],
            "needs_background": "light"
          }
        }
      ]
    },
    {
      "cell_type": "code",
      "metadata": {
        "id": "9_DXDcPuY-rZ",
        "outputId": "a6f0e63b-2352-4a94-e71e-6d4a0859776b",
        "colab": {
          "base_uri": "https://localhost:8080/",
          "height": 300
        }
      },
      "source": [
        "IMAGE_WIDTH=128\n",
        "IMAGE_HEIGHT=128\n",
        "IMAGE_CHANNELS=3\n",
        "IMAGE_SIZE=(IMAGE_WIDTH, IMAGE_HEIGHT)\n",
        "IMAGE_SHAPE=(IMAGE_WIDTH, IMAGE_HEIGHT, IMAGE_CHANNELS)\n",
        "\n",
        "train_df, val_df = train_test_split(df, test_size=0.20, random_state=123)\n",
        "train_df = train_df.reset_index(drop=True)\n",
        "val_df = val_df.reset_index(drop=True)\n",
        "\n",
        "size_train = train_df.shape[0]\n",
        "size_val = val_df.shape[0]\n",
        "BATCH_SIZE = 25\n",
        "\n",
        "train_datagen = ImageDataGenerator(\n",
        "    rotation_range=20,\n",
        "    rescale=1./255,\n",
        "    shear_range=0.1,\n",
        "    zoom_range=0.25,\n",
        "    horizontal_flip=True,\n",
        "    width_shift_range=0.1,\n",
        "    height_shift_range=0.1\n",
        ")\n",
        "\n",
        "train_generator = train_datagen.flow_from_dataframe(\n",
        "    train_df,\n",
        "    x_col='files',\n",
        "    y_col='labels',\n",
        "    target_size=IMAGE_SIZE,\n",
        "    class_mode='categorical',\n",
        "    batch_size=BATCH_SIZE\n",
        ")\n",
        "\n",
        "validation_datagen = ImageDataGenerator(rescale=1./255)\n",
        "validation_generator = validation_datagen.flow_from_dataframe(\n",
        "    val_df, \n",
        "    x_col='files',\n",
        "    y_col='labels',\n",
        "    target_size=IMAGE_SIZE,\n",
        "    class_mode='categorical',\n",
        "    batch_size=BATCH_SIZE\n",
        ")\n"
      ],
      "execution_count": 42,
      "outputs": [
        {
          "output_type": "stream",
          "text": [
            "Found 663 validated image filenames belonging to 2 classes.\n",
            "Found 166 validated image filenames belonging to 2 classes.\n"
          ],
          "name": "stdout"
        },
        {
          "output_type": "display_data",
          "data": {
            "image/png": "[encoded data removed]",
            "text/plain": [
              "<Figure size 432x288 with 1 Axes>"
            ]
          },
          "metadata": {
            "tags": [],
            "needs_background": "light"
          }
        }
      ]
    },
    {
      "cell_type": "code",
      "metadata": {
        "id": "jHV3rfXUgJMD"
      },
      "source": [
        "def show(df):\n",
        "    plt.figure(figsize=(12, 12))\n",
        "    for i in range(0, 9):\n",
        "        plt.subplot(3, 3, i+1)\n",
        "        image = plt.imread(df.loc[random.choice(df.index)][0])\n",
        "        plt.imshow(image)\n",
        "    plt.tight_layout()\n",
        "    plt.show()\n",
        "\n",
        "# show(df_noblood)\n",
        "\n",
        "# show(df_blood)\n"
      ],
      "execution_count": null,
      "outputs": []
    },
    {
      "cell_type": "code",
      "metadata": {
        "id": "Paa2zrWCZD-F",
        "outputId": "64daf923-5db7-402c-c90f-3627efa91f4a",
        "colab": {
          "base_uri": "https://localhost:8080/",
          "height": 54
        }
      },
      "source": [
        "base = MobileNetV2(input_tensor=Input(shape=(128,128, 3)), weights=\"imagenet\", include_top=False)"
      ],
      "execution_count": 43,
      "outputs": [
        {
          "output_type": "stream",
          "text": [
            "WARNING:tensorflow:`input_shape` is undefined or non-square, or `rows` is not in [96, 128, 160, 192, 224]. Weights for input shape (224, 224) will be loaded as the default.\n"
          ],
          "name": "stdout"
        }
      ]
    },
    {
      "cell_type": "code",
      "metadata": {
        "id": "BGRUG_3TZk3T",
        "outputId": "238b21fb-08ae-4883-901c-f993ef40323c",
        "colab": {
          "base_uri": "https://localhost:8080/",
          "height": 353
        }
      },
      "source": [
        "model = Sequential()\n",
        "model.add(base)\n",
        "model.add(MaxPooling2D(pool_size=(3, 3)))\n",
        "model.add(Flatten())\n",
        "model.add(Dense(128, activation=\"relu\"))\n",
        "model.add(Dropout(0.4))\n",
        "model.add(Dense(2, activation=\"softmax\"))\n",
        "\n",
        "base.trainable = False\n",
        "          \n",
        "optimizer = Adam(lr=1e-4)\n",
        "model.compile(loss=\"binary_crossentropy\", optimizer=optimizer, metrics=[\"accuracy\"])\n",
        "model.summary()"
      ],
      "execution_count": 44,
      "outputs": [
        {
          "output_type": "stream",
          "text": [
            "Model: \"sequential_3\"\n",
            "_________________________________________________________________\n",
            "Layer (type)                 Output Shape              Param #   \n",
            "=================================================================\n",
            "mobilenetv2_1.00_224 (Functi (None, 4, 4, 1280)        2257984   \n",
            "_________________________________________________________________\n",
            "max_pooling2d_2 (MaxPooling2 (None, 1, 1, 1280)        0         \n",
            "_________________________________________________________________\n",
            "flatten_1 (Flatten)          (None, 1280)              0         \n",
            "_________________________________________________________________\n",
            "dense_2 (Dense)              (None, 128)               163968    \n",
            "_________________________________________________________________\n",
            "dropout_1 (Dropout)          (None, 128)               0         \n",
            "_________________________________________________________________\n",
            "dense_3 (Dense)              (None, 2)                 258       \n",
            "=================================================================\n",
            "Total params: 2,422,210\n",
            "Trainable params: 164,226\n",
            "Non-trainable params: 2,257,984\n",
            "_________________________________________________________________\n"
          ],
          "name": "stdout"
        }
      ]
    },
    {
      "cell_type": "code",
      "metadata": {
        "id": "2jzdXxs7ZItt",
        "outputId": "3dfc0851-6069-4e10-974d-a0b595ef5a75",
        "colab": {
          "base_uri": "https://localhost:8080/",
          "height": 1000
        }
      },
      "source": [
        "EPOCHS = 30\n",
        "history = model.fit(\n",
        "            train_generator,\n",
        "            validation_data = validation_generator,\n",
        "            epochs = EPOCHS,\n",
        "            validation_steps=1,\n",
        "            verbose=2)\n"
      ],
      "execution_count": 49,
      "outputs": [
        {
          "output_type": "stream",
          "text": [
            "Epoch 1/30\n",
            "27/27 - 16s - loss: 0.2165 - accuracy: 0.9201 - val_loss: 0.1815 - val_accuracy: 0.9200\n",
            "Epoch 2/30\n",
            "27/27 - 15s - loss: 0.1758 - accuracy: 0.9351 - val_loss: 0.4711 - val_accuracy: 0.8800\n",
            "Epoch 3/30\n",
            "27/27 - 15s - loss: 0.2284 - accuracy: 0.9140 - val_loss: 0.2907 - val_accuracy: 0.8400\n",
            "Epoch 4/30\n",
            "27/27 - 15s - loss: 0.2106 - accuracy: 0.9095 - val_loss: 0.2738 - val_accuracy: 0.8800\n",
            "Epoch 5/30\n",
            "27/27 - 15s - loss: 0.1960 - accuracy: 0.9231 - val_loss: 0.3125 - val_accuracy: 0.8400\n",
            "Epoch 6/30\n",
            "27/27 - 14s - loss: 0.2026 - accuracy: 0.9110 - val_loss: 0.1616 - val_accuracy: 0.9200\n",
            "Epoch 7/30\n",
            "27/27 - 15s - loss: 0.1626 - accuracy: 0.9291 - val_loss: 0.2307 - val_accuracy: 0.9200\n",
            "Epoch 8/30\n",
            "27/27 - 15s - loss: 0.1982 - accuracy: 0.9110 - val_loss: 0.4886 - val_accuracy: 0.7600\n",
            "Epoch 9/30\n",
            "27/27 - 15s - loss: 0.1675 - accuracy: 0.9336 - val_loss: 0.2484 - val_accuracy: 0.8800\n",
            "Epoch 10/30\n",
            "27/27 - 15s - loss: 0.1732 - accuracy: 0.9291 - val_loss: 0.2032 - val_accuracy: 0.8400\n",
            "Epoch 11/30\n",
            "27/27 - 15s - loss: 0.1875 - accuracy: 0.9186 - val_loss: 0.3181 - val_accuracy: 0.9200\n",
            "Epoch 12/30\n",
            "27/27 - 14s - loss: 0.2007 - accuracy: 0.9231 - val_loss: 0.3709 - val_accuracy: 0.8400\n",
            "Epoch 13/30\n",
            "27/27 - 15s - loss: 0.1609 - accuracy: 0.9367 - val_loss: 0.6153 - val_accuracy: 0.7600\n",
            "Epoch 14/30\n",
            "27/27 - 15s - loss: 0.1567 - accuracy: 0.9487 - val_loss: 0.0766 - val_accuracy: 1.0000\n",
            "Epoch 15/30\n",
            "27/27 - 15s - loss: 0.1654 - accuracy: 0.9427 - val_loss: 0.2098 - val_accuracy: 0.8800\n",
            "Epoch 16/30\n",
            "27/27 - 15s - loss: 0.2113 - accuracy: 0.9110 - val_loss: 0.2127 - val_accuracy: 0.9200\n",
            "Epoch 17/30\n",
            "27/27 - 15s - loss: 0.1617 - accuracy: 0.9336 - val_loss: 0.3176 - val_accuracy: 0.8800\n",
            "Epoch 18/30\n",
            "27/27 - 15s - loss: 0.1616 - accuracy: 0.9351 - val_loss: 0.1794 - val_accuracy: 0.9600\n",
            "Epoch 19/30\n",
            "27/27 - 15s - loss: 0.1480 - accuracy: 0.9321 - val_loss: 0.2246 - val_accuracy: 0.8800\n",
            "Epoch 20/30\n",
            "27/27 - 14s - loss: 0.1224 - accuracy: 0.9532 - val_loss: 0.3251 - val_accuracy: 0.8800\n",
            "Epoch 21/30\n",
            "27/27 - 14s - loss: 0.1253 - accuracy: 0.9548 - val_loss: 0.1372 - val_accuracy: 0.9600\n",
            "Epoch 22/30\n",
            "27/27 - 15s - loss: 0.1720 - accuracy: 0.9412 - val_loss: 0.1825 - val_accuracy: 0.9600\n",
            "Epoch 23/30\n",
            "27/27 - 15s - loss: 0.1439 - accuracy: 0.9412 - val_loss: 0.2130 - val_accuracy: 0.9200\n",
            "Epoch 24/30\n",
            "27/27 - 15s - loss: 0.1720 - accuracy: 0.9246 - val_loss: 0.1473 - val_accuracy: 0.9600\n",
            "Epoch 25/30\n",
            "27/27 - 14s - loss: 0.1661 - accuracy: 0.9216 - val_loss: 0.2178 - val_accuracy: 0.8800\n",
            "Epoch 26/30\n",
            "27/27 - 14s - loss: 0.1326 - accuracy: 0.9487 - val_loss: 0.4640 - val_accuracy: 0.8000\n",
            "Epoch 27/30\n",
            "27/27 - 14s - loss: 0.1470 - accuracy: 0.9442 - val_loss: 0.3978 - val_accuracy: 0.8800\n",
            "Epoch 28/30\n",
            "27/27 - 15s - loss: 0.1307 - accuracy: 0.9502 - val_loss: 0.2382 - val_accuracy: 0.9600\n",
            "Epoch 29/30\n",
            "27/27 - 15s - loss: 0.1513 - accuracy: 0.9397 - val_loss: 0.2486 - val_accuracy: 0.9600\n",
            "Epoch 30/30\n",
            "27/27 - 15s - loss: 0.1376 - accuracy: 0.9427 - val_loss: 0.1863 - val_accuracy: 0.9200\n"
          ],
          "name": "stdout"
        }
      ]
    },
    {
      "cell_type": "code",
      "metadata": {
        "id": "qzU31T-tbAlj",
        "outputId": "74e9d3d9-ad37-4fc0-a48c-44f197dac4c6",
        "colab": {
          "base_uri": "https://localhost:8080/",
          "height": 298
        }
      },
      "source": [
        "import matplotlib.pyplot as plt\n",
        "acc = history.history['accuracy']\n",
        "val_acc = history.history['val_accuracy']\n",
        "loss = history.history['loss']\n",
        "val_loss = history.history['val_loss']\n",
        "\n",
        "epochs = range(len(acc))\n",
        "\n",
        "plt.plot(epochs, acc, 'r', label='Training accuracy')\n",
        "plt.plot(epochs, val_acc, 'b', label='Validation accuracy')\n",
        "plt.title('Training and validation accuracy')\n",
        "plt.legend(loc=0)\n",
        "plt.figure()\n",
        "\n",
        "plt.show()"
      ],
      "execution_count": 50,
      "outputs": [
        {
          "output_type": "display_data",
          "data": {
            "image/png": "[encoded data removed]",
            "text/plain": [
              "<Figure size 432x288 with 1 Axes>"
            ]
          },
          "metadata": {
            "tags": [],
            "needs_background": "light"
          }
        },
        {
          "output_type": "display_data",
          "data": {
            "text/plain": [
              "<Figure size 432x288 with 0 Axes>"
            ]
          },
          "metadata": {
            "tags": []
          }
        }
      ]
    },
    {
      "cell_type": "code",
      "metadata": {
        "id": "WjUsiBzLX_jm"
      },
      "source": [
        "model.save('Mobile-epochs-40.h5')"
      ],
      "execution_count": 51,
      "outputs": []
    }
  ]
}