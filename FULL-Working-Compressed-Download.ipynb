{
  "nbformat": 4,
  "nbformat_minor": 0,
  "metadata": {
    "colab": {
      "name": "Compressed-Download.ipynb",
      "provenance": [],
      "collapsed_sections": [],
      "include_colab_link": true
    },
    "kernelspec": {
      "display_name": "Python 3",
      "name": "python3"
    }
  },
  "cells": [
    {
      "cell_type": "markdown",
      "metadata": {
        "id": "view-in-github",
        "colab_type": "text"
      },
      "source": [
        "<a href=\"https://colab.research.google.com/github/malraharsh/temp2/blob/master/FULL-Working-Compressed-Download.ipynb\" target=\"_parent\"><img src=\"https://colab.research.google.com/assets/colab-badge.svg\" alt=\"Open In Colab\"/></a>"
      ]
    },
    {
      "cell_type": "code",
      "metadata": {
        "colab_type": "code",
        "id": "94tM8tXIfOfM",
        "colab": {}
      },
      "source": [
        "SIZE = 360\n",
        "EXTENSIONS = ['mp4', 'mkv'] #CURR NOT WORKING FOR MKV\n",
        "#increased chunk size from 1024 to 1024*10"
      ],
      "execution_count": 0,
      "outputs": []
    },
    {
      "cell_type": "code",
      "metadata": {
        "colab_type": "code",
        "id": "mDC1LXFmfOfl",
        "colab": {}
      },
      "source": [
        "import requests \n",
        "\n",
        "file_url = ''\n",
        "\n",
        "r = requests.get(file_url, stream = True) \n",
        "\n",
        "with open(\"compressed.zip\", \"wb\") as file: \n",
        "\tfor block in r.iter_content(chunk_size = 1024*10): \n",
        "\t\tif block: \n",
        "\t\t\tfile.write(block)"
      ],
      "execution_count": 0,
      "outputs": []
    },
    {
      "cell_type": "code",
      "metadata": {
        "id": "Lt82-n9ogPES",
        "colab_type": "code",
        "colab": {}
      },
      "source": [
        "!unzip compressed.zip"
      ],
      "execution_count": 0,
      "outputs": []
    },
    {
      "cell_type": "code",
      "metadata": {
        "colab_type": "code",
        "id": "GEx6sZckfOf0",
        "colab": {}
      },
      "source": [
        "#IF MORE To UNZIP\n",
        "!unzip ''"
      ],
      "execution_count": 0,
      "outputs": []
    },
    {
      "cell_type": "code",
      "metadata": {
        "colab_type": "code",
        "id": "InvZig4ifOgE",
        "colab": {}
      },
      "source": [
        "file = input('GIVE PATH TO FOLDER CONTAINING VIDS-')"
      ],
      "execution_count": 0,
      "outputs": []
    },
    {
      "cell_type": "code",
      "metadata": {
        "colab_type": "code",
        "id": "8IWVISDEfOgW",
        "colab": {}
      },
      "source": [
        "import os\n",
        "\n",
        "total_size = 0\n",
        "start_path = file  # To get size of current directory\n",
        "for path, dirs, files in os.walk(start_path):\n",
        "    for f in files:\n",
        "        fp = os.path.join(path, f)\n",
        "        total_size += os.path.getsize(fp)\n",
        "\n",
        "old_size = int(total_size/1024/1024)\n",
        "print(\"Old Size: {} MB\".format(old_size))"
      ],
      "execution_count": 0,
      "outputs": []
    },
    {
      "cell_type": "code",
      "metadata": {
        "id": "jYrpc3Czk0n8",
        "colab_type": "code",
        "colab": {}
      },
      "source": [
        "from google.colab import drive\n",
        "drive.mount('/content/drive')"
      ],
      "execution_count": 0,
      "outputs": []
    },
    {
      "cell_type": "code",
      "metadata": {
        "colab_type": "code",
        "id": "My_Pf6NifOgl",
        "colab": {}
      },
      "source": [
        "%%capture \n",
        "\n",
        "import moviepy.editor as mp\n",
        "\n",
        "def compress(path, height=360):\n",
        "    clip = mp.VideoFileClip(path)\n",
        "    os.remove(path) #see this\n",
        "    if clip.size[1] != height:\n",
        "        clip_resized = clip.resize(height=height)\n",
        "        clip_resized.write_videofile(path[:-4]+'.mp4')\n",
        "\n",
        "for dirpath, dirs, files in os.walk(file):  \n",
        "  for filename in files: \n",
        "    fname = os.path.join(dirpath,filename) \n",
        "    if any([fname.endswith(ext) for ext in EXTENSIONS]): \n",
        "      compress(fname, SIZE)"
      ],
      "execution_count": 0,
      "outputs": []
    },
    {
      "cell_type": "code",
      "metadata": {
        "colab_type": "code",
        "id": "lcJzJsTffOg9",
        "colab": {}
      },
      "source": [
        "%%capture\n",
        "\n",
        "from zipfile import ZipFile\n",
        "  \n",
        "def get_all_file_paths(directory): \n",
        "  \n",
        "    # initializing empty file paths list \n",
        "    file_paths = [] \n",
        "  \n",
        "    # crawling through directory and subdirectories \n",
        "    for root, directories, files in os.walk(directory): \n",
        "        for filename in files: \n",
        "            # join the two strings in order to form the full filepath. \n",
        "            filepath = os.path.join(root, filename) \n",
        "            file_paths.append(filepath) \n",
        "  \n",
        "    # returning all file paths \n",
        "    return file_paths         \n",
        "  \n",
        "# calling function to get all file paths in the directory \n",
        "def zipit(directory):\n",
        "    file_paths = get_all_file_paths(directory) \n",
        "\n",
        "    # printing the list of all files to be zipped \n",
        "    print('Following files will be zipped:') \n",
        "    for file_name in file_paths: \n",
        "        print(file_name) \n",
        "\n",
        "    # writing files to a zipfile \n",
        "    with ZipFile(filename, 'w') as zip: \n",
        "        # writing each file one by one \n",
        "        for file in file_paths: \n",
        "            zip.write(file) \n",
        "\n",
        "    print('All files zipped successfully!')\n",
        "\n",
        "filename = 'NEW' + file.split('/')[-1] + '.zip'\n",
        "zipit(file)"
      ],
      "execution_count": 0,
      "outputs": []
    },
    {
      "cell_type": "code",
      "metadata": {
        "colab_type": "code",
        "id": "9IE7DmdgfOhO",
        "colab": {}
      },
      "source": [
        "newsize = os.path.getsize(filename)/1024/1024\n",
        "print('New Size {} MB'.format(newsize))"
      ],
      "execution_count": 0,
      "outputs": []
    },
    {
      "cell_type": "code",
      "metadata": {
        "colab_type": "code",
        "id": "5sGyfoynfOhr",
        "colab": {}
      },
      "source": [
        "!mv '/content/'+filename '/content/drive/My Drive/'"
      ],
      "execution_count": 0,
      "outputs": []
    }
  ]
}