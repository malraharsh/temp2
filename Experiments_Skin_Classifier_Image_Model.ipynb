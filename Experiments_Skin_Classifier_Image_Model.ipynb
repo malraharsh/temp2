{
  "nbformat": 4,
  "nbformat_minor": 0,
  "metadata": {
    "colab": {
      "name": "Experiments-Skin-Classifier-Image-Model.ipynb",
      "provenance": [],
      "collapsed_sections": [
        "U7jmsbwzYruB"
      ],
      "mount_file_id": "1VmS011wvHhYfsvymv4n3VFLI1dej4p1m",
      "authorship_tag": "ABX9TyNu3c/xeBiWVKnSt2nPxDSC",
      "include_colab_link": true
    },
    "kernelspec": {
      "display_name": "Python 3",
      "name": "python3"
    },
    "accelerator": "GPU"
  },
  "cells": [
    {
      "cell_type": "markdown",
      "metadata": {
        "id": "view-in-github",
        "colab_type": "text"
      },
      "source": [
        "<a href=\"https://colab.research.google.com/github/malraharsh/temp2/blob/master/Experiments_Skin_Classifier_Image_Model.ipynb\" target=\"_parent\"><img src=\"https://colab.research.google.com/assets/colab-badge.svg\" alt=\"Open In Colab\"/></a>"
      ]
    },
    {
      "cell_type": "code",
      "metadata": {
        "id": "2N-IepYGTmlu"
      },
      "source": [
        "DO_GET_Images = True"
      ],
      "execution_count": 1,
      "outputs": []
    },
    {
      "cell_type": "markdown",
      "metadata": {
        "id": "O9nlzm-6TDSu"
      },
      "source": [
        "# Setup"
      ]
    },
    {
      "cell_type": "code",
      "metadata": {
        "id": "CBw4l30ELTuZ",
        "cellView": "form"
      },
      "source": [
        "#@title Importing Libraries\n",
        "\n",
        "import numpy as np\n",
        "import os\n",
        "\n",
        "import pandas as pd\n",
        "import shutil\n",
        "import numpy as np\n",
        "from tensorflow.keras.preprocessing.image import ImageDataGenerator\n",
        "import os\n",
        "from sklearn.model_selection import train_test_split\n",
        "import shutil\n",
        "import tensorflow as tf\n",
        "import numpy as np\n",
        "from tensorflow.keras.layers import Dense, Dropout\n",
        "from tensorflow.keras.optimizers import Adam\n",
        "from tensorflow.keras.models import Model\n",
        "from tensorflow.keras.callbacks import ReduceLROnPlateau, ModelCheckpoint\n",
        "from sklearn.metrics import confusion_matrix\n",
        "import itertools\n",
        "import matplotlib.pyplot as plt\n",
        "\n",
        "import numpy as np\n",
        "import pandas as pd\n",
        "from sklearn.model_selection import train_test_split\n",
        "from sklearn.metrics import confusion_matrix, precision_recall_fscore_support\n",
        "import scipy.ndimage\n",
        "from scipy import misc\n",
        "from glob import glob\n",
        "from scipy import stats\n",
        "from sklearn.preprocessing import LabelEncoder, StandardScaler\n",
        "import skimage\n",
        "import imageio\n",
        "import seaborn as sns\n",
        "from PIL import Image\n",
        "import glob\n",
        "import matplotlib.pyplot as plt\n",
        "import matplotlib\n",
        "\n",
        "import os\n",
        "import cv2\n",
        "import requests\n",
        "import numpy as np\n",
        "import pandas as pd\n",
        "from tensorflow import keras\n",
        "from tensorflow.keras.models import Model\n",
        "from tensorflow.keras import layers\n",
        "from tensorflow.keras.preprocessing.image import img_to_array\n",
        "from tensorflow.keras.preprocessing import image\n",
        "from tensorflow.keras.utils import to_categorical\n",
        "from tensorflow.keras.applications import vgg16\n",
        "from tensorflow.keras.layers import Flatten, Dense, BatchNormalization, Dropout\n",
        "from tensorflow.keras.optimizers import Adam\n",
        "from tensorflow.keras.callbacks import ModelCheckpoint\n",
        "from sklearn.model_selection import train_test_split\n",
        "# import scikitplot as skplt\n",
        "import matplotlib.pyplot as plt\n",
        "import seaborn as sns\n",
        "%matplotlib inline\n",
        "%matplotlib inline"
      ],
      "execution_count": 2,
      "outputs": []
    },
    {
      "cell_type": "code",
      "metadata": {
        "id": "ysS4ZiUCKSYp"
      },
      "source": [
        "# shutil.make_archive('tfrecord', 'zip', 'tfrecord')"
      ],
      "execution_count": 3,
      "outputs": []
    },
    {
      "cell_type": "code",
      "metadata": {
        "id": "cjL60qm2KsHF"
      },
      "source": [
        "# !cp tfrecord.zip /content/drive/MyDrive/Internship/tfrecord.zip"
      ],
      "execution_count": 4,
      "outputs": []
    },
    {
      "cell_type": "code",
      "metadata": {
        "id": "ImnWVwfJS0vc",
        "cellView": "code"
      },
      "source": [
        "#@title\n",
        "%mkdir -p others data"
      ],
      "execution_count": 5,
      "outputs": []
    },
    {
      "cell_type": "code",
      "metadata": {
        "id": "xZ6V-Q7Y3xkP"
      },
      "source": [
        "path_drive_data = '/content/drive/MyDrive/Internship/'"
      ],
      "execution_count": 6,
      "outputs": []
    },
    {
      "cell_type": "code",
      "metadata": {
        "id": "H_EqPHcC_8zH"
      },
      "source": [
        "# shutil.rmtree(path_images)"
      ],
      "execution_count": 7,
      "outputs": []
    },
    {
      "cell_type": "code",
      "metadata": {
        "id": "jzIO3e-uziBU",
        "cellView": "code"
      },
      "source": [
        "%%capture\n",
        "if DO_GET_Images:\n",
        "    !cp -n '/content/drive/MyDrive/Internship/Images-Full-Combined.rar' /content/others/\n",
        "    if not os.path.isdir('/content/Images'):\n",
        "        !unrar x '/content/others/Images-Full-Combined.rar'"
      ],
      "execution_count": 8,
      "outputs": []
    },
    {
      "cell_type": "code",
      "metadata": {
        "colab": {
          "base_uri": "https://localhost:8080/"
        },
        "id": "wQ6fJ_HoUHme",
        "outputId": "f2e5334f-50c6-4a4a-854c-e20256ef6725"
      },
      "source": [
        "!cp -n /content/drive/MyDrive/Internship/*.csv /content/data/\n",
        "!cp -n '/content/drive/MyDrive/Internship/tfrecord.zip.zip' /content/others/"
      ],
      "execution_count": 9,
      "outputs": [
        {
          "output_type": "stream",
          "text": [
            "cp: cannot stat '/content/drive/MyDrive/Internship/tfrecord.zip.zip': No such file or directory\n"
          ],
          "name": "stdout"
        }
      ]
    },
    {
      "cell_type": "code",
      "metadata": {
        "id": "6S1VWKoK17bC",
        "cellView": "code"
      },
      "source": [
        "%%capture\n",
        "if not os.path.isdir('/content/tfrecord'):\n",
        "    !unzip -o '/content/others/tfrecord.zip.zip' -d 'tfrecord'"
      ],
      "execution_count": 10,
      "outputs": []
    },
    {
      "cell_type": "code",
      "metadata": {
        "id": "cW9UHl6XSmcn"
      },
      "source": [
        "path_data = '/content/Images'"
      ],
      "execution_count": 11,
      "outputs": []
    },
    {
      "cell_type": "code",
      "metadata": {
        "id": "BYK32NJATL-Q"
      },
      "source": [
        "labels = ['Acne', 'Alopecia', 'Chancroid', 'Contact Dermatitis', \n",
        "          'Corns and Calluses', 'Distal-Subungual-Onychomycosis', \n",
        "          'Drug Eruption', 'Folliculitis', 'Genital Warts', \n",
        "          'Guttate Psoriasis', 'Halo Nevus', 'Hemangioma',\n",
        "          'Herpes Simplex', 'Ichthyosis', 'Impetigo', 'Keloid Scar', \n",
        "          'Leprosy', 'Litchen Planus', 'Litchen Simplex Chronicus', \n",
        "          'Melasma', 'Molluscum Contagiosum', 'Nummular Dermatitis',\n",
        "          'Onychomycosis', 'Photocontact Dermatitis', 'Pityriasis Alba',\n",
        "          'Pityriasis Rosea', 'Pityriasis Versicolor', 'Plaque Psoriasis',\n",
        "          'Polymorphic Light Eruption', 'Ringworm of Body',\n",
        "          'Ringworm of Face', 'Ringworm of Hands', 'Ringworm of Scalp',\n",
        "          'Scabies', 'Seborrheic Dermatitis', 'Syphilis', 'Tinea Cruris',\n",
        "          'Urticaria', 'Vitiligo', 'Warts']\n",
        "\n",
        "labels = ['Onychomycosis', 'Photocontact Dermatitis', 'Vitiligo', 'Ichthyosis', 'Impetigo', 'Keloid Scar']"
      ],
      "execution_count": 12,
      "outputs": []
    },
    {
      "cell_type": "code",
      "metadata": {
        "id": "yEJ-J0MZq6ro"
      },
      "source": [
        "path_root = '/content/'\n",
        "path_dest = '/content/destination'\n",
        "path_train = path_root + 'train'\n",
        "path_test = path_root + 'test'\n",
        "path_images = 'Images/'"
      ],
      "execution_count": 13,
      "outputs": []
    },
    {
      "cell_type": "code",
      "metadata": {
        "id": "NYxZHaXx9nM9"
      },
      "source": [
        "for label in os.listdir(path_images):\n",
        "    if label in labels: continue\n",
        "    p = os.path.join(path_images, label)    \n",
        "    shutil.rmtree(p)"
      ],
      "execution_count": 14,
      "outputs": []
    },
    {
      "cell_type": "code",
      "metadata": {
        "id": "eXAzvCWj8Aqk"
      },
      "source": [
        "path_images_csv = '/content/data/df_path_images.csv'\n",
        "if os.path.isfile(path_images_csv):\n",
        "    df_path_images = pd.read_csv(path_images_csv)\n",
        "else:\n",
        "    df_path_images = pd.DataFrame({'disease': [], 'path': []})\n",
        "    for path_img in glob.glob('Images/*/*.jpg'):\n",
        "        path_split = path_img.split('/')\n",
        "        disease = path_split[1]\n",
        "        path_img = '/'.join(path_split[1:])\n",
        "        df_path_images = df_path_images.append(dict(disease=disease, path=path_img), ignore_index=True)"
      ],
      "execution_count": 15,
      "outputs": []
    },
    {
      "cell_type": "code",
      "metadata": {
        "id": "7dElrgF_jFTQ"
      },
      "source": [
        "# balance\n",
        "from sklearn.utils import resample#split data into test and training sets\n",
        "\n",
        "def upsample_data(df, by='Skin Problem'):\n",
        "    # by - using by skin problem, so count is same, data balancing\n",
        "    # cols - unique values in by\n",
        "    cols = df[by].unique()\n",
        "    max_count = max(df[by].value_counts()) # larget category\n",
        "    df_up = pd.DataFrame() # upsampled\n",
        "    for col in cols:\n",
        "        df_col = df.loc[df[by]==col] # data of particular disease\n",
        "        upsampled = resample(df_col, replace=True, n_samples=max_count, random_state=42)\n",
        "        df_up = pd.concat([df_up, upsampled])\n",
        "    return df_up"
      ],
      "execution_count": 16,
      "outputs": []
    },
    {
      "cell_type": "code",
      "metadata": {
        "id": "qdCz3uewTLne"
      },
      "source": [
        "preprocess_input_image = tf.keras.applications.mobilenet.preprocess_input"
      ],
      "execution_count": 17,
      "outputs": []
    },
    {
      "cell_type": "markdown",
      "metadata": {
        "id": "6bWQNL8yTcWR"
      },
      "source": [
        "# Start"
      ]
    },
    {
      "cell_type": "code",
      "metadata": {
        "id": "MCz-WDbWVQUY"
      },
      "source": [
        "df = df_path_images.copy()"
      ],
      "execution_count": 22,
      "outputs": []
    },
    {
      "cell_type": "code",
      "metadata": {
        "id": "15T9WmN53CBW"
      },
      "source": [
        "df = df[df.disease.isin(labels)]\n",
        "df = df.reset_index()"
      ],
      "execution_count": 23,
      "outputs": []
    },
    {
      "cell_type": "code",
      "metadata": {
        "id": "C5cZh0mq3AyO"
      },
      "source": [
        "cnts = df.disease.value_counts()\n",
        "import math"
      ],
      "execution_count": 24,
      "outputs": []
    },
    {
      "cell_type": "code",
      "metadata": {
        "id": "ZTIKrUVDXTMV"
      },
      "source": [
        "### removing dis having less than n images\n",
        "\n",
        "min_images = 0\n",
        "disease_drop = cnts[cnts < min_images].index\n",
        "idx_drop = df[df.disease.isin(disease_drop)].index\n",
        "df.drop(index=idx_drop, inplace=True)\n",
        "df_orig = df.copy()"
      ],
      "execution_count": 25,
      "outputs": []
    },
    {
      "cell_type": "code",
      "metadata": {
        "id": "zflzCKm9hLFp"
      },
      "source": [
        "labels = sorted(df.disease.unique())"
      ],
      "execution_count": 26,
      "outputs": []
    },
    {
      "cell_type": "code",
      "metadata": {
        "id": "58xWGi2YpPxj"
      },
      "source": [
        "### removing more than keep num images, for class balance\n",
        "\n",
        "def keep_n_images(keep_n, df):\n",
        "    for label in labels:\n",
        "        print(label)\n",
        "        idxs = df[df.disease == label].index\n",
        "        idxs_drop = idxs[keep_n:]\n",
        "        print(len(idxs))\n",
        "        df = df.drop(index=idxs_drop)\n",
        "    return df"
      ],
      "execution_count": 27,
      "outputs": []
    },
    {
      "cell_type": "code",
      "metadata": {
        "colab": {
          "base_uri": "https://localhost:8080/"
        },
        "id": "Vh67fOmVjsxS",
        "outputId": "0408d5a8-ccef-44b1-af0e-02f6099d2810"
      },
      "source": [
        "df.disease.value_counts()"
      ],
      "execution_count": 28,
      "outputs": [
        {
          "output_type": "execute_result",
          "data": {
            "text/plain": [
              "Impetigo                   437\n",
              "Keloid Scar                379\n",
              "Ichthyosis                 320\n",
              "Photocontact Dermatitis    231\n",
              "Onychomycosis              231\n",
              "Vitiligo                   171\n",
              "Name: disease, dtype: int64"
            ]
          },
          "metadata": {
            "tags": []
          },
          "execution_count": 28
        }
      ]
    },
    {
      "cell_type": "code",
      "metadata": {
        "id": "iVeR5YM3_J-I"
      },
      "source": [
        "df_data = df"
      ],
      "execution_count": 29,
      "outputs": []
    },
    {
      "cell_type": "markdown",
      "metadata": {
        "id": "xz8be-52QkHK"
      },
      "source": [
        "# Image"
      ]
    },
    {
      "cell_type": "code",
      "metadata": {
        "id": "CPH-7GDb-p22"
      },
      "source": [
        "# df_data = keep_n_images(100, df_data)\n",
        "\n",
        "df_train, df_val = train_test_split(df_data, test_size=0.15,\n",
        "                                    random_state=42, \n",
        "                                    stratify=df_data['disease'])\n",
        "\n",
        "df_train = upsample_data(df_train, by='disease')\n",
        "\n",
        "df_test = df_val"
      ],
      "execution_count": 30,
      "outputs": []
    },
    {
      "cell_type": "code",
      "metadata": {
        "id": "JzmrKHsBr-Lz"
      },
      "source": [
        "batch_size = 32\n",
        "\n",
        "num_train_samples = len(df_train)\n",
        "num_test_samples = len(df_test)\n",
        "train_batch_size = batch_size\n",
        "test_batch_size = batch_size\n",
        "image_shape = (224, 224)"
      ],
      "execution_count": 31,
      "outputs": []
    },
    {
      "cell_type": "code",
      "metadata": {
        "id": "xk6OGXvv8ohl"
      },
      "source": [
        "train_steps = np.ceil(num_train_samples / train_batch_size)\n",
        "test_steps = np.ceil(num_test_samples / test_batch_size)"
      ],
      "execution_count": 32,
      "outputs": []
    },
    {
      "cell_type": "code",
      "metadata": {
        "colab": {
          "base_uri": "https://localhost:8080/"
        },
        "id": "p6bd1ZGbsNFu",
        "outputId": "667a79b3-8106-4db5-fca4-dc0ab7e4b840"
      },
      "source": [
        "def get_batches_train(shuffle=True):\n",
        "    datagen_train = ImageDataGenerator(\n",
        "            rotation_range=30,\n",
        "            # rescale=1. / 255,\n",
        "            width_shift_range=0.3,\n",
        "            height_shift_range=0.3,\n",
        "            zoom_range=0.3,\n",
        "            horizontal_flip=True,\n",
        "            # vertical_flip=True,\n",
        "            # brightness_range=(0.9,1.1),\n",
        "            fill_mode='nearest',\n",
        "            preprocessing_function= preprocess_input_image)\n",
        "\n",
        "    batches_train = datagen_train.flow_from_dataframe(\n",
        "                                    dataframe=df_train,\n",
        "                                    directory=path_data,\n",
        "                                    x_col='path',\n",
        "                                    y_col='disease',\n",
        "                                    # subset=\"training\",\n",
        "                                    batch_size=train_batch_size,\n",
        "                                    seed=42,\n",
        "                                    shuffle=shuffle,\n",
        "                                    # class_mode=\"categorical\",\n",
        "                                    target_size=image_shape)\n",
        "\n",
        "    return batches_train\n",
        "\n",
        "def get_batches_test(df_test=df_test):        \n",
        "    datagen_test = ImageDataGenerator(\n",
        "                                    #   rescale=1. / 255,\n",
        "                                      preprocessing_function= preprocess_input_image)\n",
        "\n",
        "    batches_test = datagen_test.flow_from_dataframe(\n",
        "                                    dataframe=df_test,\n",
        "                                    directory=path_data,\n",
        "                                    x_col='path',\n",
        "                                    y_col='disease',\n",
        "                                    # subset=\"training\",\n",
        "                                    batch_size=test_batch_size,\n",
        "                                    seed=42,\n",
        "                                    shuffle=False,\n",
        "                                    # class_mode=\"categorical\",\n",
        "                                    target_size=image_shape)\n",
        "    \n",
        "    return batches_test\n",
        "\n",
        "batches_train = get_batches_train()\n",
        "batches_test = get_batches_test()"
      ],
      "execution_count": 62,
      "outputs": [
        {
          "output_type": "stream",
          "text": [
            "Found 2232 validated image filenames belonging to 6 classes.\n",
            "Found 266 validated image filenames belonging to 6 classes.\n"
          ],
          "name": "stdout"
        }
      ]
    },
    {
      "cell_type": "code",
      "metadata": {
        "id": "qoAk8ZlDYp-R"
      },
      "source": [
        "from sklearn.utils import class_weight\n",
        "class_weights = class_weight.compute_class_weight('balanced',\n",
        "                                                 np.unique(batches_train.classes),\n",
        "                                                 batches_train.classes)\n",
        "class_weights = dict(enumerate(class_weights))"
      ],
      "execution_count": 34,
      "outputs": []
    },
    {
      "cell_type": "code",
      "metadata": {
        "colab": {
          "base_uri": "https://localhost:8080/"
        },
        "id": "5K7035QEVSrU",
        "outputId": "681136da-884c-4943-bdaa-0f99c762ff08"
      },
      "source": [
        "path_images = 'Images/'\n",
        "# nb_images=len(tf.io.gfile.glob(path_images + '*/*.jpg'))\n",
        "nb_images = df_data.shape[0]\n",
        "print(tf.__version__)\n",
        "AUTO = tf.data.experimental.AUTOTUNE # used in tf.data.Dataset API\n",
        "\n",
        "CLASSES = [file.encode() for file in labels]\n",
        "# nb_images=len(tf.io.gfile.glob('data/*/*.jpeg'))\n",
        "SHARDS = 16\n",
        "shared_size = math.ceil(1.0 * nb_images / SHARDS) # batch size of tfrecord\n",
        "# print(shared_size)\n",
        "\n",
        "TARGET_SIZE=224\n",
        "\n",
        "path_images_train = path_images + df_train.path.values"
      ],
      "execution_count": 35,
      "outputs": [
        {
          "output_type": "stream",
          "text": [
            "2.4.1\n"
          ],
          "name": "stdout"
        }
      ]
    },
    {
      "cell_type": "markdown",
      "metadata": {
        "id": "eMyoBp2BL8rb"
      },
      "source": [
        "# TFRecord"
      ]
    },
    {
      "cell_type": "code",
      "metadata": {
        "id": "Xyv1C8GpuOzM"
      },
      "source": [
        "import math\n",
        "\n",
        "def read_image_and_label(img_path):\n",
        "  \n",
        "  bits = tf.io.read_file(img_path)\n",
        "  image = tf.image.decode_jpeg(bits)\n",
        "  image = tf.image.resize(image, [TARGET_SIZE, TARGET_SIZE])\n",
        "\n",
        "  label = tf.strings.split(img_path, sep='/')[-2]\n",
        "#   assert(len(label) > 1) # to make sure sep is correct\n",
        "  return image, label\n",
        "\n",
        "dataset = tf.data.Dataset.list_files(path_images_train, seed=10000) # This also shuffles the images\n",
        "dataset = dataset.map(read_image_and_label)"
      ],
      "execution_count": 36,
      "outputs": []
    },
    {
      "cell_type": "code",
      "metadata": {
        "id": "ZYNb2hUkubtE"
      },
      "source": [
        "def compress_image(image, label):\n",
        "  image = tf.cast(image, tf.uint8)\n",
        "  image = tf.image.encode_jpeg(image, optimize_size=True, chroma_downsampling=False)\n",
        "  return image, label\n",
        "\n",
        "dataset = dataset.map(compress_image, num_parallel_calls=AUTO)\n",
        "dataset = dataset.batch(shared_size) \n",
        "\n",
        "def _bytestring_feature(list_of_bytestrings):\n",
        "  return tf.train.Feature(bytes_list=tf.train.BytesList(value=list_of_bytestrings))\n",
        "\n",
        "def _int_feature(list_of_ints): # int64\n",
        "  return tf.train.Feature(int64_list=tf.train.Int64List(value=list_of_ints))\n",
        "\n",
        "def _float_feature(list_of_floats): # float32\n",
        "  return tf.train.Feature(float_list=tf.train.FloatList(value=list_of_floats))\n",
        "\n",
        "def to_tfrecord(img_bytes, label):  \n",
        "  class_num = np.argmax(np.array(CLASSES)==label) \n",
        "  feature = {\n",
        "      \"image\": _bytestring_feature([img_bytes]), # one image in the list\n",
        "      \"class\": _int_feature([class_num]),        # one class in the list      \n",
        "  }\n",
        "  return tf.train.Example(features=tf.train.Features(feature=feature))\n"
      ],
      "execution_count": 37,
      "outputs": []
    },
    {
      "cell_type": "code",
      "metadata": {
        "id": "eYS1Q0squfkV",
        "colab": {
          "base_uri": "https://localhost:8080/"
        },
        "outputId": "8d36784e-4eed-4a4e-b612-8deeeebd13c7"
      },
      "source": [
        "DO_TFRecord = True\n",
        "# DO_TFRecord = False\n",
        "if DO_TFRecord or not os.path.exists('tfrecord'):\n",
        "    if os.path.exists('tfrecord'): shutil.rmtree('tfrecord')\n",
        "    os.mkdir('tfrecord')\n",
        "    for shard, (image, label) in enumerate(dataset):\n",
        "        shard_size = image.numpy().shape[0]\n",
        "        filename = \"tfrecord/\" + \"{:02d}-{}.tfrec\".format(shard, shard_size)\n",
        "\n",
        "        with tf.io.TFRecordWriter(filename) as out_file:\n",
        "            for i in range(shard_size):\n",
        "            #       print(label.numpy()[i])  \n",
        "                example = to_tfrecord(image.numpy()[i],label.numpy()[i])\n",
        "                out_file.write(example.SerializeToString())\n",
        "        print(\"Wrote file {} containing {} records\".format(filename, shard_size))"
      ],
      "execution_count": 38,
      "outputs": [
        {
          "output_type": "stream",
          "text": [
            "Wrote file tfrecord/00-111.tfrec containing 111 records\n",
            "Wrote file tfrecord/01-111.tfrec containing 111 records\n",
            "Wrote file tfrecord/02-111.tfrec containing 111 records\n",
            "Wrote file tfrecord/03-111.tfrec containing 111 records\n",
            "Wrote file tfrecord/04-111.tfrec containing 111 records\n",
            "Wrote file tfrecord/05-111.tfrec containing 111 records\n",
            "Wrote file tfrecord/06-111.tfrec containing 111 records\n",
            "Wrote file tfrecord/07-111.tfrec containing 111 records\n",
            "Wrote file tfrecord/08-111.tfrec containing 111 records\n",
            "Wrote file tfrecord/09-111.tfrec containing 111 records\n",
            "Wrote file tfrecord/10-111.tfrec containing 111 records\n",
            "Wrote file tfrecord/11-111.tfrec containing 111 records\n",
            "Wrote file tfrecord/12-111.tfrec containing 111 records\n",
            "Wrote file tfrecord/13-111.tfrec containing 111 records\n",
            "Wrote file tfrecord/14-111.tfrec containing 111 records\n",
            "Wrote file tfrecord/15-111.tfrec containing 111 records\n",
            "Wrote file tfrecord/16-111.tfrec containing 111 records\n",
            "Wrote file tfrecord/17-111.tfrec containing 111 records\n",
            "Wrote file tfrecord/18-111.tfrec containing 111 records\n",
            "Wrote file tfrecord/19-111.tfrec containing 111 records\n",
            "Wrote file tfrecord/20-12.tfrec containing 12 records\n"
          ],
          "name": "stdout"
        }
      ]
    },
    {
      "cell_type": "code",
      "metadata": {
        "cellView": "form",
        "id": "gnWtwueKODWB"
      },
      "source": [
        "#@title Visualization Utitlites\n",
        "# numpy and matplotlib defaults\n",
        "np.set_printoptions(threshold=15, linewidth=80)\n",
        "# https://www.kaggle.com/mgornergoogle/getting-started-with-100-flowers-on-tpu\n",
        "def batch_to_numpy_images_and_labels(data):\n",
        "    images, labels = data\n",
        "    numpy_images = images.numpy()\n",
        "    numpy_labels = labels.numpy()\n",
        "    if numpy_labels.dtype == object: # binary string in this case, these are image ID strings\n",
        "        numpy_labels = [None for _ in enumerate(numpy_images)]\n",
        "    # If no labels, only image IDs, return None for labels (this is the case for test data)\n",
        "    return numpy_images, numpy_labels\n",
        "\n",
        "def title_from_label_and_target(label, correct_label):\n",
        "    if correct_label is None:\n",
        "        return CLASSES[label], True\n",
        "    correct = (label == correct_label)\n",
        "    return \"{} [{}{}{}]\".format(CLASSES[label], 'OK' if correct else 'NO', u\"\\u2192\" if not correct else '',\n",
        "                                CLASSES[correct_label] if not correct else ''), correct\n",
        "\n",
        "def display_one_flower(image, title, subplot, red=False, titlesize=16):\n",
        "    plt.subplot(*subplot)\n",
        "    plt.axis('off')\n",
        "    plt.imshow(image)\n",
        "    if len(title) > 0:\n",
        "        plt.title(title, fontsize=int(titlesize) if not red else int(titlesize/1.2), color='red' if red else 'black', fontdict={'verticalalignment':'center'}, pad=int(titlesize/1.5))\n",
        "    return (subplot[0], subplot[1], subplot[2]+1)\n",
        "    \n",
        "def display_batch_of_images(databatch, predictions=None):\n",
        "    \"\"\"This will work with:\n",
        "    display_batch_of_images(images)\n",
        "    display_batch_of_images(images, predictions)\n",
        "    display_batch_of_images((images, labels))\n",
        "    display_batch_of_images((images, labels), predictions)\n",
        "    \"\"\"\n",
        "    # data\n",
        "    images, labels = batch_to_numpy_images_and_labels(databatch)\n",
        "    if labels is None:\n",
        "        labels = [None for _ in enumerate(images)]\n",
        "        \n",
        "    # auto-squaring: this will drop data that does not fit into square or square-ish rectangle\n",
        "    rows = int(math.sqrt(len(images)))\n",
        "    cols = len(images)//rows\n",
        "        \n",
        "    # size and spacing\n",
        "    FIGSIZE = 13.0\n",
        "    SPACING = 0.1\n",
        "    subplot=(rows,cols,1)\n",
        "    if rows < cols:\n",
        "        plt.figure(figsize=(FIGSIZE,FIGSIZE/cols*rows))\n",
        "    else:\n",
        "        plt.figure(figsize=(FIGSIZE/rows*cols,FIGSIZE))\n",
        "    \n",
        "    # display\n",
        "    for i, (image, label) in enumerate(zip(images[:rows*cols], labels[:rows*cols])):\n",
        "        title = '' if label is None else CLASSES[label]\n",
        "        correct = True\n",
        "        if predictions is not None:\n",
        "            title, correct = title_from_label_and_target(predictions[i], label)\n",
        "        dynamic_titlesize = FIGSIZE*SPACING/max(rows,cols)*40+3 # magic formula tested to work from 1x1 to 10x10 images\n",
        "        subplot = display_one_flower(image, title, subplot, not correct, titlesize=dynamic_titlesize)\n",
        "    \n",
        "    #layout\n",
        "    plt.tight_layout()\n",
        "    if label is None and predictions is None:\n",
        "        plt.subplots_adjust(wspace=0, hspace=0)\n",
        "    else:\n",
        "        plt.subplots_adjust(wspace=SPACING, hspace=SPACING)\n",
        "    plt.show()\n",
        "\n",
        "def display_confusion_matrix(cmat, score, precision, recall):\n",
        "    plt.figure(figsize=(15,15))\n",
        "    ax = plt.gca()\n",
        "    ax.matshow(cmat, cmap='Reds')\n",
        "    ax.set_xticks(range(len(CLASSES)))\n",
        "    ax.set_xticklabels(CLASSES, fontdict={'fontsize': 7})\n",
        "    plt.setp(ax.get_xticklabels(), rotation=45, ha=\"left\", rotation_mode=\"anchor\")\n",
        "    ax.set_yticks(range(len(CLASSES)))\n",
        "    ax.set_yticklabels(CLASSES, fontdict={'fontsize': 7})\n",
        "    plt.setp(ax.get_yticklabels(), rotation=45, ha=\"right\", rotation_mode=\"anchor\")\n",
        "    titlestring = \"\"\n",
        "    if score is not None:\n",
        "        titlestring += 'f1 = {:.3f} '.format(score)\n",
        "    if precision is not None:\n",
        "        titlestring += '\\nprecision = {:.3f} '.format(precision)\n",
        "    if recall is not None:\n",
        "        titlestring += '\\nrecall = {:.3f} '.format(recall)\n",
        "    if len(titlestring) > 0:\n",
        "        ax.text(101, 1, titlestring, fontdict={'fontsize': 18, 'horizontalalignment':'right', 'verticalalignment':'top', 'color':'#804040'})\n",
        "    plt.show()\n",
        "    \n",
        "def display_training_curves(training, validation, title, subplot):\n",
        "    if subplot%10==1: # set up the subplots on the first call\n",
        "        plt.subplots(figsize=(10,10), facecolor='#F0F0F0')\n",
        "        plt.tight_layout()\n",
        "    ax = plt.subplot(subplot)\n",
        "    ax.set_facecolor('#F8F8F8')\n",
        "    ax.plot(training)\n",
        "    ax.plot(validation)\n",
        "    ax.set_title('model '+ title)\n",
        "    ax.set_ylabel(title)\n",
        "    #ax.set_ylim(0.28,1.05)\n",
        "    ax.set_xlabel('epoch')\n",
        "    ax.legend(['train', 'valid.'])"
      ],
      "execution_count": 39,
      "outputs": []
    },
    {
      "cell_type": "code",
      "metadata": {
        "id": "udMojSirtr1b"
      },
      "source": [
        "\n",
        "def decode_image(image):\n",
        "    image = tf.image.decode_jpeg(image, channels=3)\n",
        "    image = tf.cast(image, tf.float32) #/ 255.0\n",
        "    image = preprocess_input_image(image)\n",
        "    # image = tf.reshape(image, [TARGET_SIZE,TARGET_SIZE, 3])\n",
        "    return image\n",
        "\n",
        "\n",
        "def read_tfrecord(example):\n",
        "    features = {\n",
        "        \"image\": tf.io.FixedLenFeature([], tf.string),  # tf.string = bytestring (not text string)\n",
        "        \"class\": tf.io.FixedLenFeature([], tf.int64),   # shape [] means scalar\n",
        "    }\n",
        "    # decode the TFRecord\n",
        "    example = tf.io.parse_single_example(example, features)   \n",
        "    image = decode_image(example['image']) \n",
        "    class_label = tf.cast(example['class'], tf.int32)\n",
        "    # label = tf.one_hot(label, NUM_CLASSES)\n",
        "    return image, class_label\n",
        "\n",
        "def data_augment(image, label):\n",
        "    image = tf.image.random_flip_left_right(image)\n",
        "    image = tf.image.random_flip_up_down(image)\n",
        "    # image = tf.image.rot90(image, k=1) # rotate 90º\n",
        "    # image = tf.image.random_crop(image, (200, 200, 3))\n",
        "    image = tf.image.random_brightness(image, max_delta=.3)\n",
        "    # image = tf.image.random_jpeg_quality(image, 70, 100)\n",
        "    return image, label\n",
        "\n",
        "def get_batched_dataset(filenames, augment=False, shuffle=False):\n",
        "  option_no_order = tf.data.Options()\n",
        "  option_no_order.experimental_deterministic = False\n",
        "\n",
        "  dataset = tf.data.Dataset.list_files(filenames)\n",
        "  dataset = dataset.with_options(option_no_order)\n",
        "  dataset = dataset.interleave(tf.data.TFRecordDataset, cycle_length=16, num_parallel_calls=AUTO)\n",
        "  dataset = dataset.map(read_tfrecord, num_parallel_calls=AUTO)\n",
        "  if augment == True:\n",
        "    dataset = dataset.map(data_augment, num_parallel_calls=AUTOTUNE)\n",
        "#   dataset = dataset.cache() # This dataset fits in RAM\n",
        "  dataset = dataset.repeat()\n",
        "  if shuffle:\n",
        "    dataset = dataset.shuffle(2048)\n",
        "  dataset = dataset.batch(BATCH_SIZE) #, drop_remainder=True) # drop_remainder will be needed on TPU\n",
        "  \n",
        "  dataset = dataset.prefetch(AUTO) \n",
        "  return dataset\n",
        "  \n",
        "\n",
        "def get_training_dataset(augment=True):\n",
        "  return get_batched_dataset(training_filenames, shuffle=True, augment=augment)\n",
        "\n",
        "def get_validation_dataset():\n",
        "  return get_batched_dataset(validation_filenames)\n",
        "\n",
        "AUTO = AUTOTUNE = tf.data.experimental.AUTOTUNE"
      ],
      "execution_count": 40,
      "outputs": []
    },
    {
      "cell_type": "code",
      "metadata": {
        "id": "Qngx1cs7OYUt"
      },
      "source": [
        "# training_dataset = get_training_dataset()\n",
        "# training_dataset = training_dataset.unbatch().batch(2)\n",
        "# train_batch = iter(training_dataset)\n",
        "# # run this cell again for next set of images\n",
        "# display_batch_of_images(next(train_batch))"
      ],
      "execution_count": 41,
      "outputs": []
    },
    {
      "cell_type": "code",
      "metadata": {
        "id": "bo4qxcHGTHnF"
      },
      "source": [
        ""
      ],
      "execution_count": 41,
      "outputs": []
    },
    {
      "cell_type": "markdown",
      "metadata": {
        "id": "ZXxvBn4KjI23"
      },
      "source": [
        "# Models"
      ]
    },
    {
      "cell_type": "code",
      "metadata": {
        "id": "CeVUh8oelm1d",
        "colab": {
          "base_uri": "https://localhost:8080/"
        },
        "outputId": "f75ab1a9-ba11-4810-beb3-6b8c75e74e30"
      },
      "source": [
        "import glob\n",
        "import os, json, random\n",
        "\n",
        "VALIDATION_SPLIT = 0.05\n",
        "\n",
        "BATCH_SIZE = batch_size\n",
        "\n",
        "filenames=tf.io.gfile.glob('tfrecord/*.tfrec')\n",
        "\n",
        "random.shuffle(filenames)\n",
        "split = int(len(filenames) * VALIDATION_SPLIT)\n",
        "\n",
        "training_filenames = filenames[split:]\n",
        "validation_filenames = filenames[:split]\n",
        "\n",
        "validation_steps = int(nb_images // len(filenames) * len(validation_filenames)) // BATCH_SIZE\n",
        "steps_per_epoch = int(nb_images // len(filenames) * len(training_filenames)) // BATCH_SIZE\n",
        "\n",
        "print(int(nb_images * (1 - VALIDATION_SPLIT)))\n",
        "assert(split >= 1)"
      ],
      "execution_count": 42,
      "outputs": [
        {
          "output_type": "stream",
          "text": [
            "1680\n"
          ],
          "name": "stdout"
        }
      ]
    },
    {
      "cell_type": "code",
      "metadata": {
        "id": "IqaawF40-NAg"
      },
      "source": [
        "preprocess_input_image = None"
      ],
      "execution_count": null,
      "outputs": []
    },
    {
      "cell_type": "code",
      "metadata": {
        "id": "yDsQy0moImiN"
      },
      "source": [
        "# !pip install -U efficientnet\n",
        "import efficientnet.keras as efn\n"
      ],
      "execution_count": 65,
      "outputs": []
    },
    {
      "cell_type": "code",
      "metadata": {
        "id": "fl5177lN7z4D"
      },
      "source": [
        "from tensorflow.keras.applications.vgg16 import VGG16\n",
        "from tensorflow.keras.applications.inception_v3 import InceptionV3\n",
        "from tensorflow.keras.applications.resnet50 import ResNet50\n",
        "\n",
        "def create_base_model(n):\n",
        "    global preprocess_input_image\n",
        "    if n == 1:\n",
        "        model = VGG16(input_shape = (224, 224, 3),include_top = False, weights = 'imagenet')\n",
        "        preprocess_input_image = tf.keras.applications.vgg16.preprocess_input\n",
        "    if n == 2:\n",
        "        model = tf.keras.applications.mobilenet.MobileNet(input_shape = (224,224,3), include_top=False)\n",
        "        preprocess_input_image = tf.keras.applications.mobilenet.preprocess_input\n",
        "    if n == 3:\n",
        "        model = InceptionV3(input_shape = (224, 224, 3), include_top = False, weights = 'imagenet')\n",
        "        preprocess_input_image = tf.keras.applications.inception_v3.preprocess_input\n",
        "    if n == 4:\n",
        "        model = ResNet50(input_shape=(224, 224,3), include_top=False, weights=\"imagenet\")\n",
        "        preprocess_input_image = tf.keras.applications.resnet50.preprocess_input\n",
        "    if n == 5:\n",
        "        model =  efn.EfficientNetB0(input_shape = (224, 224, 3), include_top = False, weights = 'imagenet')\n",
        "        preprocess_input_image = lambda x: x * 1./255\n",
        "\n",
        "    for layer in model.layers:\n",
        "        layer.trainable = False\n",
        "    \n",
        "    return model\n",
        "\n",
        "def create_model(n):\n",
        "    # base_model = tf.keras.applications.VGG16(include_top=False, weights='imagenet', input_shape=image_shape + (3,))\n",
        "\n",
        "    # for layer in base_model.layers[:-23]:\n",
        "        # layer.trainable = False\n",
        "\n",
        "    top = tf.keras.Sequential()\n",
        "    top.add(Flatten())\n",
        "    top.add(Dense(512, activation = 'relu'))\n",
        "    top.add(BatchNormalization())\n",
        "    top.add(Dropout(0.5))\n",
        "    top.add(Dense(256, activation = 'relu'))\n",
        "    top.add(BatchNormalization())\n",
        "    top.add(Dropout(0.5))\n",
        "    top.add(Dense(256, activation = 'relu'))\n",
        "    top.add(BatchNormalization())\n",
        "    top.add(Dropout(0.5))\n",
        "    top.add(Dense(128, activation = 'relu'))\n",
        "    top.add(BatchNormalization())\n",
        "    top.add(Dropout(0.25))\n",
        "    top.add(Dense(len(labels), activation = 'softmax'))\n",
        "\n",
        "    base_model = create_base_model(n)\n",
        "    x = base_model.output\n",
        "    outputs = top(x)\n",
        "    model = Model(inputs=base_model.input, outputs=outputs)\n",
        "    return model\n",
        "\n",
        "filepath = \"/content/model.h5\"\n",
        "\n",
        "def get_model(n):\n",
        "    model = create_model(n)\n",
        "\n",
        "    model.compile(Adam(lr=0.01), loss='sparse_categorical_crossentropy', metrics=['sparse_categorical_accuracy'])\n",
        "\n",
        "    checkpoint = ModelCheckpoint(filepath, monitor='sparse_categorical_accuracy', verbose=1,\n",
        "                                save_best_only=True, mode='max')\n",
        "\n",
        "    reduce_lr = ReduceLROnPlateau(monitor='sparse_categorical_accuracy', factor=0.5, patience=2,\n",
        "                                verbose=1, mode='max', min_lr=0.00001)\n",
        "\n",
        "    early_stop = tf.keras.callbacks.EarlyStopping(monitor='sparse_categorical_accuracy', patience=3)\n",
        "\n",
        "    callbacks = [checkpoint, reduce_lr, early_stop]\n",
        "\n",
        "    return model, callbacks\n"
      ],
      "execution_count": 74,
      "outputs": []
    },
    {
      "cell_type": "code",
      "metadata": {
        "id": "ozb1oi951pGL",
        "colab": {
          "base_uri": "https://localhost:8080/"
        },
        "outputId": "16850075-77bb-4c53-bdd4-9459506a3fcd"
      },
      "source": [
        "# !cp /content/drive/MyDrive/Files/dermasync/model_tfr.h5 /content/model.h5\n",
        "# model.load_weights('/content/model.h5')\n",
        "\n",
        "# model = tf.keras.models.load_model('model.h5', compile=False)"
      ],
      "execution_count": null,
      "outputs": [
        {
          "output_type": "stream",
          "text": [
            "cp: cannot stat '/content/drive/MyDrive/Files/dermasync/model_tfr.h5': No such file or directory\n"
          ],
          "name": "stdout"
        }
      ]
    },
    {
      "cell_type": "code",
      "metadata": {
        "id": "J0K9gmYyBNjt"
      },
      "source": [
        "# Models = {}"
      ],
      "execution_count": 47,
      "outputs": []
    },
    {
      "cell_type": "code",
      "metadata": {
        "colab": {
          "base_uri": "https://localhost:8080/"
        },
        "id": "1d-p1F3sJ0GI",
        "outputId": "6145d764-68cc-4a39-faa2-ec54f21c7621"
      },
      "source": [
        "for i in range(5, 6):\n",
        "    print(f'----------{i}--------------')\n",
        "    model, callbacks = get_model(i)\n",
        "    ds_train = get_training_dataset()\n",
        "    ds_validation = get_validation_dataset()\n",
        "    if i in Models:\n",
        "        model = Models[i][0]\n",
        "    else:\n",
        "        history = model.fit(ds_train,\n",
        "                        steps_per_epoch=steps_per_epoch, epochs=15,\n",
        "                        validation_data=ds_validation, \n",
        "                        validation_steps=validation_steps,\n",
        "                        callbacks=callbacks\n",
        "                        )\n",
        "        Models[i] = (model, history)\n",
        "    get_report()"
      ],
      "execution_count": 75,
      "outputs": [
        {
          "output_type": "stream",
          "text": [
            "----------5--------------\n",
            "Epoch 1/15\n",
            "52/52 [==============================] - 13s 99ms/step - loss: 2.2270 - sparse_categorical_accuracy: 0.2806 - val_loss: 5.9166 - val_sparse_categorical_accuracy: 0.3750\n",
            "\n",
            "Epoch 00001: sparse_categorical_accuracy improved from -inf to 0.33534, saving model to /content/model.h5\n",
            "Epoch 2/15\n",
            "52/52 [==============================] - 4s 71ms/step - loss: 1.4442 - sparse_categorical_accuracy: 0.4400 - val_loss: 1.6254 - val_sparse_categorical_accuracy: 0.5000\n",
            "\n",
            "Epoch 00002: sparse_categorical_accuracy improved from 0.33534 to 0.45373, saving model to /content/model.h5\n",
            "Epoch 3/15\n",
            "52/52 [==============================] - 4s 71ms/step - loss: 1.2909 - sparse_categorical_accuracy: 0.4902 - val_loss: 1.4195 - val_sparse_categorical_accuracy: 0.4844\n",
            "\n",
            "Epoch 00003: sparse_categorical_accuracy improved from 0.45373 to 0.51382, saving model to /content/model.h5\n",
            "Epoch 4/15\n",
            "52/52 [==============================] - 4s 70ms/step - loss: 1.1517 - sparse_categorical_accuracy: 0.5574 - val_loss: 0.9728 - val_sparse_categorical_accuracy: 0.6250\n",
            "\n",
            "Epoch 00004: sparse_categorical_accuracy improved from 0.51382 to 0.55469, saving model to /content/model.h5\n",
            "Epoch 5/15\n",
            "52/52 [==============================] - 4s 72ms/step - loss: 1.0745 - sparse_categorical_accuracy: 0.5741 - val_loss: 1.0162 - val_sparse_categorical_accuracy: 0.6250\n",
            "\n",
            "Epoch 00005: sparse_categorical_accuracy improved from 0.55469 to 0.60577, saving model to /content/model.h5\n",
            "Epoch 6/15\n",
            "52/52 [==============================] - 4s 72ms/step - loss: 0.9432 - sparse_categorical_accuracy: 0.6513 - val_loss: 0.6874 - val_sparse_categorical_accuracy: 0.7656\n",
            "\n",
            "Epoch 00006: sparse_categorical_accuracy improved from 0.60577 to 0.64483, saving model to /content/model.h5\n",
            "Epoch 7/15\n",
            "52/52 [==============================] - 4s 71ms/step - loss: 0.8751 - sparse_categorical_accuracy: 0.6824 - val_loss: 0.6396 - val_sparse_categorical_accuracy: 0.7500\n",
            "\n",
            "Epoch 00007: sparse_categorical_accuracy improved from 0.64483 to 0.68510, saving model to /content/model.h5\n",
            "Epoch 8/15\n",
            "52/52 [==============================] - 4s 70ms/step - loss: 0.8209 - sparse_categorical_accuracy: 0.7095 - val_loss: 0.6081 - val_sparse_categorical_accuracy: 0.7188\n",
            "\n",
            "Epoch 00008: sparse_categorical_accuracy improved from 0.68510 to 0.71995, saving model to /content/model.h5\n",
            "Epoch 9/15\n",
            "52/52 [==============================] - 4s 71ms/step - loss: 0.7305 - sparse_categorical_accuracy: 0.7581 - val_loss: 0.6657 - val_sparse_categorical_accuracy: 0.7500\n",
            "\n",
            "Epoch 00009: sparse_categorical_accuracy improved from 0.71995 to 0.77163, saving model to /content/model.h5\n",
            "Epoch 10/15\n",
            "52/52 [==============================] - 4s 72ms/step - loss: 0.6644 - sparse_categorical_accuracy: 0.7656 - val_loss: 0.4807 - val_sparse_categorical_accuracy: 0.7812\n",
            "\n",
            "Epoch 00010: sparse_categorical_accuracy improved from 0.77163 to 0.77885, saving model to /content/model.h5\n",
            "Epoch 11/15\n",
            "52/52 [==============================] - 4s 71ms/step - loss: 0.5164 - sparse_categorical_accuracy: 0.8213 - val_loss: 0.5522 - val_sparse_categorical_accuracy: 0.8281\n",
            "\n",
            "Epoch 00011: sparse_categorical_accuracy improved from 0.77885 to 0.81611, saving model to /content/model.h5\n",
            "Epoch 12/15\n",
            "52/52 [==============================] - 4s 71ms/step - loss: 0.4815 - sparse_categorical_accuracy: 0.8262 - val_loss: 0.5602 - val_sparse_categorical_accuracy: 0.8125\n",
            "\n",
            "Epoch 00012: sparse_categorical_accuracy improved from 0.81611 to 0.82272, saving model to /content/model.h5\n",
            "Epoch 13/15\n",
            "52/52 [==============================] - 4s 72ms/step - loss: 0.5344 - sparse_categorical_accuracy: 0.8259 - val_loss: 0.4454 - val_sparse_categorical_accuracy: 0.8750\n",
            "\n",
            "Epoch 00013: sparse_categorical_accuracy improved from 0.82272 to 0.82752, saving model to /content/model.h5\n",
            "Epoch 14/15\n",
            "52/52 [==============================] - 4s 73ms/step - loss: 0.4590 - sparse_categorical_accuracy: 0.8410 - val_loss: 0.4464 - val_sparse_categorical_accuracy: 0.8906\n",
            "\n",
            "Epoch 00014: sparse_categorical_accuracy improved from 0.82752 to 0.86659, saving model to /content/model.h5\n",
            "Epoch 15/15\n",
            "52/52 [==============================] - 4s 72ms/step - loss: 0.4265 - sparse_categorical_accuracy: 0.8730 - val_loss: 0.4375 - val_sparse_categorical_accuracy: 0.8750\n",
            "\n",
            "Epoch 00015: sparse_categorical_accuracy did not improve from 0.86659\n",
            "Report\n",
            "Found 1769 validated image filenames belonging to 6 classes.\n",
            "56/56 [==============================] - 5s 78ms/step\n",
            "              precision    recall  f1-score   support\n",
            "\n",
            "           0       0.89      0.77      0.82       320\n",
            "           1       0.84      0.66      0.74       437\n",
            "           2       0.79      0.72      0.75       379\n",
            "           3       0.92      0.98      0.95       231\n",
            "           4       0.57      0.82      0.67       231\n",
            "           5       0.64      0.84      0.73       171\n",
            "\n",
            "    accuracy                           0.77      1769\n",
            "   macro avg       0.77      0.80      0.78      1769\n",
            "weighted avg       0.79      0.77      0.77      1769\n",
            "\n"
          ],
          "name": "stdout"
        }
      ]
    },
    {
      "cell_type": "code",
      "metadata": {
        "colab": {
          "base_uri": "https://localhost:8080/"
        },
        "id": "ftvXcTYDAdgw",
        "outputId": "7b6c67d0-e47e-4964-e000-4ebc32a0e8a7"
      },
      "source": [
        "for i in range(2, 5):\n",
        "    print(f'----------{i}--------------')\n",
        "    model, callbacks = get_model(i)\n",
        "    ds_train = get_training_dataset()\n",
        "    ds_validation = get_validation_dataset()\n",
        "    if i in Models:\n",
        "        model = Models[i][0]\n",
        "    else:\n",
        "        history = model.fit(ds_train,\n",
        "                        steps_per_epoch=steps_per_epoch, epochs=15,\n",
        "                        validation_data=ds_validation, \n",
        "                        validation_steps=validation_steps,\n",
        "                        callbacks=callbacks\n",
        "                        )\n",
        "        Models[i] = (model, history)\n",
        "    get_report()"
      ],
      "execution_count": 76,
      "outputs": [
        {
          "output_type": "stream",
          "text": [
            "----------2--------------\n",
            "Report\n",
            "Found 1769 validated image filenames belonging to 6 classes.\n",
            "56/56 [==============================] - 3s 61ms/step\n",
            "              precision    recall  f1-score   support\n",
            "\n",
            "           0       0.86      0.87      0.86       320\n",
            "           1       0.83      0.79      0.81       437\n",
            "           2       0.88      0.74      0.80       379\n",
            "           3       0.91      0.97      0.94       231\n",
            "           4       0.68      0.77      0.72       231\n",
            "           5       0.73      0.85      0.78       171\n",
            "\n",
            "    accuracy                           0.82      1769\n",
            "   macro avg       0.81      0.83      0.82      1769\n",
            "weighted avg       0.83      0.82      0.82      1769\n",
            "\n",
            "----------3--------------\n",
            "Report\n",
            "Found 1769 validated image filenames belonging to 6 classes.\n",
            "56/56 [==============================] - 4s 74ms/step\n",
            "              precision    recall  f1-score   support\n",
            "\n",
            "           0       0.93      0.70      0.80       320\n",
            "           1       0.65      0.87      0.74       437\n",
            "           2       0.83      0.61      0.70       379\n",
            "           3       0.95      0.97      0.96       231\n",
            "           4       0.70      0.67      0.69       231\n",
            "           5       0.67      0.81      0.73       171\n",
            "\n",
            "    accuracy                           0.76      1769\n",
            "   macro avg       0.79      0.77      0.77      1769\n",
            "weighted avg       0.79      0.76      0.76      1769\n",
            "\n",
            "----------4--------------\n",
            "Report\n",
            "Found 1769 validated image filenames belonging to 6 classes.\n",
            "56/56 [==============================] - 6s 100ms/step\n",
            "              precision    recall  f1-score   support\n",
            "\n",
            "           0       0.87      0.88      0.87       320\n",
            "           1       0.82      0.80      0.81       437\n",
            "           2       0.88      0.70      0.78       379\n",
            "           3       0.93      0.97      0.95       231\n",
            "           4       0.69      0.87      0.77       231\n",
            "           5       0.79      0.84      0.82       171\n",
            "\n",
            "    accuracy                           0.83      1769\n",
            "   macro avg       0.83      0.84      0.83      1769\n",
            "weighted avg       0.84      0.83      0.83      1769\n",
            "\n"
          ],
          "name": "stdout"
        }
      ]
    },
    {
      "cell_type": "code",
      "metadata": {
        "id": "RzDq4-mC_c61"
      },
      "source": [
        "# model.save('model.h5')\n",
        "# !cp $filepath '/content/drive/MyDrive/Files/dermasync/model_tfr.h5'"
      ],
      "execution_count": null,
      "outputs": []
    },
    {
      "cell_type": "code",
      "metadata": {
        "id": "6MfA-ZmLQ0Fr"
      },
      "source": [
        "from sklearn.metrics import precision_score, accuracy_score, confusion_matrix, classification_report \n",
        "def get_report(name='Report'):\n",
        "    print(f'{name}')\n",
        "    batches = get_batches_test(df_data)\n",
        "    y_true = np.array(batches.classes)\n",
        "    pred_images = y_pred = model.predict(batches, verbose=1)\n",
        "    y_pred = np.argmax(y_pred, axis=1)\n",
        "    label2idx = batches.class_indices\n",
        "    idx2label = {v:k for k, v in label2idx.items()}\n",
        "    pred_true = np.zeros((len(y_true), len(labels)))\n",
        "    print(classification_report(y_true, y_pred))"
      ],
      "execution_count": 60,
      "outputs": []
    },
    {
      "cell_type": "code",
      "metadata": {
        "colab": {
          "base_uri": "https://localhost:8080/"
        },
        "id": "mCA7IORaIGWV",
        "outputId": "09ebd256-bf76-4514-d0c9-d7c72d8f4945"
      },
      "source": [
        "get_report()"
      ],
      "execution_count": 63,
      "outputs": [
        {
          "output_type": "stream",
          "text": [
            "Report\n",
            "Found 1769 validated image filenames belonging to 6 classes.\n",
            "56/56 [==============================] - 6s 100ms/step\n",
            "              precision    recall  f1-score   support\n",
            "\n",
            "           0       0.87      0.88      0.87       320\n",
            "           1       0.82      0.80      0.81       437\n",
            "           2       0.88      0.70      0.78       379\n",
            "           3       0.93      0.97      0.95       231\n",
            "           4       0.69      0.87      0.77       231\n",
            "           5       0.79      0.84      0.82       171\n",
            "\n",
            "    accuracy                           0.83      1769\n",
            "   macro avg       0.83      0.84      0.83      1769\n",
            "weighted avg       0.84      0.83      0.83      1769\n",
            "\n"
          ],
          "name": "stdout"
        }
      ]
    },
    {
      "cell_type": "code",
      "metadata": {
        "colab": {
          "base_uri": "https://localhost:8080/"
        },
        "id": "gvm-gsKiNhFO",
        "outputId": "3041ad37-a3e0-4ba8-94c4-1f9b09290d5d"
      },
      "source": [
        "# batches = get_validation_dataset()\n",
        "# model.evaluate(batches, steps=10)"
      ],
      "execution_count": null,
      "outputs": [
        {
          "output_type": "stream",
          "text": [
            "10/10 [==============================] - 0s 31ms/step - loss: 1.9962 - sparse_categorical_accuracy: 0.6469\n"
          ],
          "name": "stdout"
        },
        {
          "output_type": "execute_result",
          "data": {
            "text/plain": [
              "[1.9962209463119507, 0.6468750238418579]"
            ]
          },
          "metadata": {
            "tags": []
          },
          "execution_count": 368
        }
      ]
    },
    {
      "cell_type": "code",
      "metadata": {
        "id": "4gR6xtI3dEZf",
        "colab": {
          "base_uri": "https://localhost:8080/"
        },
        "outputId": "72bd8e22-9c7f-476e-aafd-4ae232084c1c"
      },
      "source": [
        "## converting y to categorical\n",
        "for i, n in enumerate(y_true):\n",
        "    pred_true[i][n] = 1\n",
        "for k in range(1, len(labels)):\n",
        "    kacc = tf.keras.metrics.top_k_categorical_accuracy(pred_true, pred_images, k=k).numpy()\n",
        "    acc = sum(kacc) / len(kacc)\n",
        "    print(k, ' - ', acc)\n",
        "    if acc > 0.98: break"
      ],
      "execution_count": null,
      "outputs": [
        {
          "output_type": "stream",
          "text": [
            "1  -  0.7443609022556391\n",
            "2  -  0.8984962406015038\n",
            "3  -  0.9511278195488722\n",
            "4  -  0.9736842105263158\n",
            "5  -  0.9849624060150376\n"
          ],
          "name": "stdout"
        }
      ]
    },
    {
      "cell_type": "code",
      "metadata": {
        "id": "9unvvZ3RFRnt"
      },
      "source": [
        ""
      ],
      "execution_count": null,
      "outputs": []
    },
    {
      "cell_type": "markdown",
      "metadata": {
        "id": "U7jmsbwzYruB"
      },
      "source": [
        "# More"
      ]
    },
    {
      "cell_type": "markdown",
      "metadata": {
        "id": "kvRm96wHvbJM"
      },
      "source": [
        "## Tsne vis"
      ]
    },
    {
      "cell_type": "code",
      "metadata": {
        "id": "J4llQ_r6vaSx"
      },
      "source": [
        ""
      ],
      "execution_count": null,
      "outputs": []
    },
    {
      "cell_type": "code",
      "metadata": {
        "id": "56txEDZMY3Rt"
      },
      "source": [
        "def merge_batches(n, batch):\n",
        "    list_X, list_y = [], []\n",
        "    for _ in range(n):\n",
        "        X, y = next(batch)\n",
        "        X = X.reshape(X.shape[0], -1)\n",
        "        list_X.append(X)\n",
        "        y = [np.argmax(i) for i in y]\n",
        "        list_y.extend(y)\n",
        "    return np.concatenate(list_X), list_y"
      ],
      "execution_count": null,
      "outputs": []
    },
    {
      "cell_type": "code",
      "metadata": {
        "id": "f-AC-z2f-fiJ"
      },
      "source": [
        "m = {idx: val for val, idx in batches_train.class_indices.items()}"
      ],
      "execution_count": null,
      "outputs": []
    },
    {
      "cell_type": "code",
      "metadata": {
        "colab": {
          "base_uri": "https://localhost:8080/"
        },
        "id": "3x3eqLCj-KWX",
        "outputId": "cc61cf4a-a9d1-4b1f-b05b-334b14b4d9b0"
      },
      "source": [
        "X, y = merge_batches(30, batches_train)\n",
        "X.shape, len(y)"
      ],
      "execution_count": null,
      "outputs": [
        {
          "output_type": "execute_result",
          "data": {
            "text/plain": [
              "((1440, 150528), 1440)"
            ]
          },
          "metadata": {
            "tags": []
          },
          "execution_count": 44
        }
      ]
    },
    {
      "cell_type": "code",
      "metadata": {
        "id": "YrAuS3jN83lH"
      },
      "source": [
        "X, y = pd.DataFrame(X), pd.DataFrame(y)\n",
        "df = X\n",
        "df['label'] = y"
      ],
      "execution_count": null,
      "outputs": []
    },
    {
      "cell_type": "code",
      "metadata": {
        "id": "i-wIQkAr9pl1"
      },
      "source": [
        "import time\n",
        "\n",
        "from sklearn.manifold import TSNE\n",
        "from cuml.manifold import TSNE\n",
        "#n_sne = 7000\n",
        "\n",
        "time_start = time.time()\n",
        "tsne = TSNE(n_iter=10)\n",
        "tsne_results = tsne.fit_transform(df.values)\n",
        "\n",
        "print ('t-SNE done! Time elapsed: {} seconds'.format(time.time()-time_start))\n",
        "\n"
      ],
      "execution_count": null,
      "outputs": []
    },
    {
      "cell_type": "code",
      "metadata": {
        "colab": {
          "base_uri": "https://localhost:8080/",
          "height": 499
        },
        "id": "lb0XHSLU9puC",
        "outputId": "f021ba13-aff6-4f31-f55d-791e5d412d1e"
      },
      "source": [
        "import matplotlib.pyplot as plt\n",
        "%matplotlib inline\n",
        "# Create the figure\n",
        "fig = plt.figure( figsize=(8,8) )\n",
        "ax = fig.add_subplot(1, 1, 1, title='TSNE' )\n",
        "# Create the scatter\n",
        "ax.scatter(\n",
        "    x=tsne_results[:,0], \n",
        "    y=tsne_results[:,1], \n",
        "    c=df['label'], \n",
        "    cmap=plt.cm.get_cmap('Paired'), \n",
        "    alpha=0.4)\n",
        "plt.show()"
      ],
      "execution_count": null,
      "outputs": [
        {
          "output_type": "display_data",
          "data": {
            "image/png": "[encoded data removed]",
            "text/plain": [
              "<Figure size 576x576 with 1 Axes>"
            ]
          },
          "metadata": {
            "tags": [],
            "needs_background": "light"
          }
        }
      ]
    },
    {
      "cell_type": "code",
      "metadata": {
        "id": "Z_Hxfn379p1Z"
      },
      "source": [
        ""
      ],
      "execution_count": null,
      "outputs": []
    },
    {
      "cell_type": "code",
      "metadata": {
        "id": "eTr4TanKkMQ5",
        "colab": {
          "base_uri": "https://localhost:8080/"
        },
        "outputId": "e43901ff-93d5-4bea-b675-a2cb8572eab1"
      },
      "source": [
        "## not working\n",
        "### model tf 2.4 to tf2.1 for pc\n",
        "\n",
        "# %%capture\n",
        "# !pip3 install \n",
        "# !virtualenv env\n",
        "# pathenv = '/content/env/bin/activate'\n",
        "\n",
        "# model_json = model.to_json()\n",
        "# with open(\"model.json\", \"w\") as json_file:\n",
        "#     json_file.write(model_json)\n",
        "# # serialize weights to HDF5\n",
        "# model.save_weights(\"modelweight.h5\")\n",
        "# print(\"Saved model to disk\")"
      ],
      "execution_count": null,
      "outputs": [
        {
          "output_type": "stream",
          "text": [
            "Saved model to disk\n"
          ],
          "name": "stdout"
        }
      ]
    },
    {
      "cell_type": "code",
      "metadata": {
        "id": "Ooz2W5QSEPtp"
      },
      "source": [
        "# %%capture\n",
        "# !pip3 install tensorflow==2.1\n",
        "# model_pc = get_model()\n",
        "# model_pc.load_weights('model.h5')\n",
        "# model_pc.save('model_pc.h5')\n",
        "\n",
        "# from google.colab import files\n",
        "# files.download('model_pc.h5')"
      ],
      "execution_count": null,
      "outputs": []
    }
  ]
}