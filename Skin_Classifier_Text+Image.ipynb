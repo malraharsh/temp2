{
  "nbformat": 4,
  "nbformat_minor": 0,
  "metadata": {
    "colab": {
      "name": "Skin-Classifier-Text+Image.ipynb",
      "provenance": [],
      "collapsed_sections": [],
      "toc_visible": true,
      "mount_file_id": "1R-nF87AHMhpq4IIl9Lo4lgJOxVlCaNnf",
      "authorship_tag": "ABX9TyMkip3alnsCt7VqmijAUfkg",
      "include_colab_link": true
    },
    "kernelspec": {
      "name": "python3",
      "display_name": "Python 3"
    }
  },
  "cells": [
    {
      "cell_type": "markdown",
      "metadata": {
        "id": "view-in-github",
        "colab_type": "text"
      },
      "source": [
        "<a href=\"https://colab.research.google.com/github/malraharsh/temp2/blob/master/Skin_Classifier_Text%2BImage.ipynb\" target=\"_parent\"><img src=\"https://colab.research.google.com/assets/colab-badge.svg\" alt=\"Open In Colab\"/></a>"
      ]
    },
    {
      "cell_type": "markdown",
      "metadata": {
        "id": "bWLaZDHc_tpW"
      },
      "source": [
        "#Setup"
      ]
    },
    {
      "cell_type": "code",
      "metadata": {
        "id": "CBw4l30ELTuZ"
      },
      "source": [
        "import torch\r\n",
        "from torch import nn\r\n",
        "import torch.nn.functional as F\r\n",
        "import torchvision\r\n",
        "import torchvision.transforms as transforms\r\n",
        "import numpy as np\r\n",
        "import os\r\n",
        "\r\n",
        "import pandas as pd\r\n",
        "import shutil\r\n",
        "import numpy as np\r\n",
        "from keras.preprocessing.image import ImageDataGenerator\r\n",
        "import os\r\n",
        "from sklearn.model_selection import train_test_split\r\n",
        "import shutil\r\n",
        "import tensorflow as tf\r\n",
        "import numpy as np\r\n",
        "import keras\r\n",
        "from keras import backend as K\r\n",
        "from tensorflow.keras.layers import Dense, Dropout\r\n",
        "from tensorflow.keras.optimizers import Adam\r\n",
        "from keras.preprocessing.image import ImageDataGenerator\r\n",
        "from tensorflow.keras.models import Model\r\n",
        "from tensorflow.keras.callbacks import ReduceLROnPlateau, ModelCheckpoint\r\n",
        "from sklearn.metrics import confusion_matrix\r\n",
        "import itertools\r\n",
        "import matplotlib.pyplot as plt\r\n",
        "\r\n",
        "import numpy as np\r\n",
        "import pandas as pd\r\n",
        "from sklearn.model_selection import train_test_split\r\n",
        "from sklearn.metrics import confusion_matrix, precision_recall_fscore_support\r\n",
        "import scipy.ndimage\r\n",
        "from scipy import misc\r\n",
        "from glob import glob\r\n",
        "from scipy import stats\r\n",
        "from sklearn.preprocessing import LabelEncoder, StandardScaler\r\n",
        "import skimage\r\n",
        "import imageio\r\n",
        "import seaborn as sns\r\n",
        "from PIL import Image\r\n",
        "import glob\r\n",
        "import matplotlib.pyplot as plt\r\n",
        "import matplotlib\r\n",
        "\r\n",
        "%matplotlib inline"
      ],
      "execution_count": 1,
      "outputs": []
    },
    {
      "cell_type": "code",
      "metadata": {
        "id": "ImnWVwfJS0vc"
      },
      "source": [
        "%mkdir -p others data"
      ],
      "execution_count": 2,
      "outputs": []
    },
    {
      "cell_type": "code",
      "metadata": {
        "id": "jzIO3e-uziBU"
      },
      "source": [
        "!cp -n '/content/drive/MyDrive/Internship/Images zip.zip' /content/others/\r\n",
        "!cp -n /content/drive/MyDrive/Internship/*.csv /content/data/"
      ],
      "execution_count": 3,
      "outputs": []
    },
    {
      "cell_type": "code",
      "metadata": {
        "id": "6S1VWKoK17bC"
      },
      "source": [
        "%%capture\r\n",
        "!unzip -n '/content/others/Images zip.zip'"
      ],
      "execution_count": 4,
      "outputs": []
    },
    {
      "cell_type": "code",
      "metadata": {
        "id": "cW9UHl6XSmcn"
      },
      "source": [
        "path_data = '/content/Images' #os.getcwd() + \"/HAM10000\"\r\n",
        "# path_metadata = '/content/HAM10000_metadata.csv'"
      ],
      "execution_count": 5,
      "outputs": []
    },
    {
      "cell_type": "code",
      "metadata": {
        "id": "BYK32NJATL-Q"
      },
      "source": [
        "to_use = ['Herpes Simplex', 'Acne', 'Folliculitis', 'Alopecia', 'Drug Eruption']\r\n",
        "# to_use = ['Folliculitis', 'Alopecia', 'Drug Eruption']\r\n",
        "labels = to_use"
      ],
      "execution_count": 6,
      "outputs": []
    },
    {
      "cell_type": "code",
      "metadata": {
        "id": "yEJ-J0MZq6ro"
      },
      "source": [
        "path_root = '/content/'\r\n",
        "path_dest = '/content/destination'\r\n",
        "path_train = path_root + 'train'\r\n",
        "path_test = path_root + 'test'"
      ],
      "execution_count": 7,
      "outputs": []
    },
    {
      "cell_type": "markdown",
      "metadata": {
        "id": "1slEcCSR_my8"
      },
      "source": [
        "#Start Working"
      ]
    },
    {
      "cell_type": "markdown",
      "metadata": {
        "id": "mnAiE63a99_H"
      },
      "source": [
        "Text"
      ]
    },
    {
      "cell_type": "code",
      "metadata": {
        "id": "Bi3r8HKn99qU"
      },
      "source": [
        "path_csv = 'data/Dataset Modified.csv'\r\n",
        "path_models = r'../Data/models/'"
      ],
      "execution_count": 8,
      "outputs": []
    },
    {
      "cell_type": "code",
      "metadata": {
        "id": "4DYdwwDz_RPb"
      },
      "source": [
        "df = pd.read_csv(path_csv)"
      ],
      "execution_count": 9,
      "outputs": []
    },
    {
      "cell_type": "code",
      "metadata": {
        "id": "OLfnmA9OPgzG"
      },
      "source": [
        "df = df[df['Skin Problem'].isin(to_use)]\r\n",
        "df = df.reset_index(drop=True)"
      ],
      "execution_count": 10,
      "outputs": []
    },
    {
      "cell_type": "code",
      "metadata": {
        "id": "d5VnkGOv99ko"
      },
      "source": [
        "X, y = df.drop(columns=['Skin Problem']), df['Skin Problem']\r\n",
        "y = np.array(y)"
      ],
      "execution_count": 11,
      "outputs": []
    },
    {
      "cell_type": "code",
      "metadata": {
        "id": "paKgqncqAGSv"
      },
      "source": [
        "columns = X.columns"
      ],
      "execution_count": 12,
      "outputs": []
    },
    {
      "cell_type": "code",
      "metadata": {
        "colab": {
          "base_uri": "https://localhost:8080/"
        },
        "id": "BHZDCzkVAId-",
        "outputId": "3495a4fc-336b-425b-e588-0288c779a7ba"
      },
      "source": [
        "from sklearn.preprocessing import OneHotEncoder\r\n",
        "import os\r\n",
        "enc = OneHotEncoder(handle_unknown='ignore')\r\n",
        "enc.fit(X)"
      ],
      "execution_count": 13,
      "outputs": [
        {
          "output_type": "execute_result",
          "data": {
            "text/plain": [
              "OneHotEncoder(categories='auto', drop=None, dtype=<class 'numpy.float64'>,\n",
              "              handle_unknown='ignore', sparse=True)"
            ]
          },
          "metadata": {
            "tags": []
          },
          "execution_count": 13
        }
      ]
    },
    {
      "cell_type": "code",
      "metadata": {
        "id": "uM_397g2ZxK4"
      },
      "source": [
        "from keras.utils.np_utils import to_categorical"
      ],
      "execution_count": 14,
      "outputs": []
    },
    {
      "cell_type": "code",
      "metadata": {
        "id": "qoTdS6E-ZVgl"
      },
      "source": [
        "q = y.reshape(-1, 1)\r\n",
        "ency = OneHotEncoder(handle_unknown='ignore')\r\n",
        "w = ency.fit_transform(q)"
      ],
      "execution_count": 15,
      "outputs": []
    },
    {
      "cell_type": "code",
      "metadata": {
        "id": "KkeAWJLoAKqi"
      },
      "source": [
        "import pickle\r\n",
        "import joblib\r\n",
        "X = enc.transform(X).toarray()"
      ],
      "execution_count": 16,
      "outputs": []
    },
    {
      "cell_type": "code",
      "metadata": {
        "id": "XZ044NtvANIE"
      },
      "source": [
        "from sklearn.ensemble import RandomForestClassifier"
      ],
      "execution_count": 17,
      "outputs": []
    },
    {
      "cell_type": "code",
      "metadata": {
        "colab": {
          "base_uri": "https://localhost:8080/"
        },
        "id": "faTCtJcXAPGV",
        "outputId": "a2d43669-8a15-4270-99aa-dec35e1efb3c"
      },
      "source": [
        "clf = RandomForestClassifier(n_estimators=100, random_state=42)\r\n",
        "clf.fit(X, y)\r\n",
        "\r\n",
        "y_pred = clf.predict(X)\r\n",
        "\r\n",
        "from sklearn import metrics\r\n",
        "print(\"Accuracy:\",metrics.accuracy_score(y, y_pred))"
      ],
      "execution_count": 18,
      "outputs": [
        {
          "output_type": "stream",
          "text": [
            "Accuracy: 1.0\n"
          ],
          "name": "stdout"
        }
      ]
    },
    {
      "cell_type": "code",
      "metadata": {
        "id": "Pfky8Muj1vFB"
      },
      "source": [
        "import joblib"
      ],
      "execution_count": 19,
      "outputs": []
    },
    {
      "cell_type": "code",
      "metadata": {
        "colab": {
          "base_uri": "https://localhost:8080/"
        },
        "id": "3mztZ52o1w0l",
        "outputId": "682b2244-6ed6-4c42-c124-a6de00d6cf17"
      },
      "source": [
        "# joblib.dump(clf, 'clf.joblib')\r\n",
        "# joblib.dump(enc, 'encoder.joblib')\r\n",
        "# joblib.dump(ency, 'encodery.joblib')"
      ],
      "execution_count": 20,
      "outputs": [
        {
          "output_type": "execute_result",
          "data": {
            "text/plain": [
              "['encodery.joblib']"
            ]
          },
          "metadata": {
            "tags": []
          },
          "execution_count": 20
        }
      ]
    },
    {
      "cell_type": "code",
      "metadata": {
        "id": "1yEqRDp8l73C"
      },
      "source": [
        "# with open('encoder_y.pkl', 'wb') as f:\r\n",
        "    # pickle.dump(ency, f)"
      ],
      "execution_count": 21,
      "outputs": []
    },
    {
      "cell_type": "code",
      "metadata": {
        "id": "15ud5ccM99f2"
      },
      "source": [
        "z = clf.predict_proba(X)"
      ],
      "execution_count": 23,
      "outputs": []
    },
    {
      "cell_type": "code",
      "metadata": {
        "id": "djtHc0T-mXo6"
      },
      "source": [
        "# !zip -r pkl.zip *.joblib"
      ],
      "execution_count": 24,
      "outputs": []
    },
    {
      "cell_type": "code",
      "metadata": {
        "colab": {
          "base_uri": "https://localhost:8080/"
        },
        "id": "UANovNFwK3gM",
        "outputId": "d64ef876-e3fb-412b-cab2-bb3b42816d8d"
      },
      "source": [
        "z.shape"
      ],
      "execution_count": 25,
      "outputs": [
        {
          "output_type": "execute_result",
          "data": {
            "text/plain": [
              "(72, 5)"
            ]
          },
          "metadata": {
            "tags": []
          },
          "execution_count": 25
        }
      ]
    },
    {
      "cell_type": "markdown",
      "metadata": {
        "id": "xz8be-52QkHK"
      },
      "source": [
        "# Image"
      ]
    },
    {
      "cell_type": "code",
      "metadata": {
        "id": "QO7fiMvNegvL"
      },
      "source": [
        "datagen_train = ImageDataGenerator(\r\n",
        "        rotation_range=30,\r\n",
        "        width_shift_range=0.1,\r\n",
        "        height_shift_range=0.1,\r\n",
        "        zoom_range=0.1,\r\n",
        "        horizontal_flip=True,\r\n",
        "        # vertical_flip=True,\r\n",
        "        # brightness_range=(0.9,1.1),\r\n",
        "        fill_mode='nearest',\r\n",
        "        preprocessing_function= keras.applications.mobilenet.preprocess_input)\r\n",
        "\r\n",
        "datagen_test = ImageDataGenerator(preprocessing_function= keras.applications.mobilenet.preprocess_input)"
      ],
      "execution_count": null,
      "outputs": []
    },
    {
      "cell_type": "code",
      "metadata": {
        "id": "JzmrKHsBr-Lz"
      },
      "source": [
        "num_train_samples = len(counts) #!!!!!!!!!!!!\r\n",
        "num_test_samples = len(counts)\r\n",
        "train_batch_size = 16\r\n",
        "test_batch_size = 16\r\n",
        "image_shape = (224, 224)"
      ],
      "execution_count": null,
      "outputs": []
    },
    {
      "cell_type": "code",
      "metadata": {
        "id": "xk6OGXvv8ohl"
      },
      "source": [
        "train_steps = np.ceil(num_train_samples / train_batch_size)\r\n",
        "test_steps = np.ceil(num_test_samples / test_batch_size)"
      ],
      "execution_count": null,
      "outputs": []
    },
    {
      "cell_type": "code",
      "metadata": {
        "colab": {
          "base_uri": "https://localhost:8080/"
        },
        "id": "p6bd1ZGbsNFu",
        "outputId": "7ef9f30e-560f-489c-8c4c-bd886cf2f53d"
      },
      "source": [
        "batches_train = datagen_train.flow_from_directory(\r\n",
        "                                directory=path_data,\r\n",
        "                                # subset=\"training\",\r\n",
        "                                batch_size=train_batch_size,\r\n",
        "                                seed=42,\r\n",
        "                                shuffle=False,\r\n",
        "                                class_mode=\"categorical\",\r\n",
        "                                target_size=image_shape)\r\n",
        "\r\n",
        "batches_test = batches_train\r\n",
        "# batches_train = datagen_train.flow_from_directory(\r\n",
        "#                                 directory=path_data,\r\n",
        "#                                 # subset=\"training\",\r\n",
        "#                                 batch_size=train_batch_size,\r\n",
        "#                                 seed=42,\r\n",
        "#                                 shuffle=False,\r\n",
        "#                                 class_mode=\"categorical\",\r\n",
        "#                                 target_size=image_shape)\r\n"
      ],
      "execution_count": null,
      "outputs": [
        {
          "output_type": "stream",
          "text": [
            "Found 1531 images belonging to 5 classes.\n"
          ],
          "name": "stdout"
        }
      ]
    },
    {
      "cell_type": "code",
      "metadata": {
        "colab": {
          "base_uri": "https://localhost:8080/"
        },
        "id": "0W9fn_Mh5i_Q",
        "outputId": "9d6f8e32-b4f0-4c89-9adc-0ef8ab608134"
      },
      "source": [
        "batches_train.class_indices"
      ],
      "execution_count": null,
      "outputs": [
        {
          "output_type": "execute_result",
          "data": {
            "text/plain": [
              "{'Acne': 0,\n",
              " 'Alopecia': 1,\n",
              " 'Drug Eruption': 2,\n",
              " 'Folliculitis': 3,\n",
              " 'Herpes Simplex': 4}"
            ]
          },
          "metadata": {
            "tags": []
          },
          "execution_count": 32
        }
      ]
    },
    {
      "cell_type": "markdown",
      "metadata": {
        "id": "ab6pmUhYgn5-"
      },
      "source": [
        "Class Weights"
      ]
    },
    {
      "cell_type": "code",
      "metadata": {
        "id": "Jg0ye4_egnTL"
      },
      "source": [
        "from sklearn.utils import class_weight"
      ],
      "execution_count": null,
      "outputs": []
    },
    {
      "cell_type": "code",
      "metadata": {
        "id": "MVzayYK2gqC1"
      },
      "source": [
        "class_weights = class_weight.compute_class_weight('balanced',\r\n",
        "                                                 np.unique(batches_train.classes),\r\n",
        "                                                 batches_train.classes)\r\n",
        "class_weights = dict(enumerate(class_weights))"
      ],
      "execution_count": null,
      "outputs": []
    },
    {
      "cell_type": "code",
      "metadata": {
        "colab": {
          "base_uri": "https://localhost:8080/"
        },
        "id": "wS794BMjhHJ7",
        "outputId": "edf4f02e-8688-42d3-b0b1-3314d5bc8af0"
      },
      "source": [
        "class_weights"
      ],
      "execution_count": null,
      "outputs": [
        {
          "output_type": "execute_result",
          "data": {
            "text/plain": [
              "{0: 0.7022935779816514,\n",
              " 1: 2.9442307692307694,\n",
              " 2: 1.458095238095238,\n",
              " 3: 2.3921875,\n",
              " 4: 0.4689127105666156}"
            ]
          },
          "metadata": {
            "tags": []
          },
          "execution_count": 35
        }
      ]
    },
    {
      "cell_type": "markdown",
      "metadata": {
        "id": "ZXxvBn4KjI23"
      },
      "source": [
        "# Models"
      ]
    },
    {
      "cell_type": "code",
      "metadata": {
        "id": "_oeJX4Jn9XL9"
      },
      "source": [
        "import os\r\n",
        "import cv2\r\n",
        "import requests\r\n",
        "import numpy as np\r\n",
        "import pandas as pd\r\n",
        "from tensorflow import keras\r\n",
        "from tensorflow.keras.models import Model\r\n",
        "from tensorflow.keras import layers\r\n",
        "from tensorflow.keras.preprocessing.image import img_to_array\r\n",
        "from tensorflow.keras.preprocessing import image\r\n",
        "from tensorflow.keras.utils import to_categorical\r\n",
        "from tensorflow.keras.applications import vgg16\r\n",
        "from tensorflow.keras.layers import Flatten, Dense, BatchNormalization, Dropout\r\n",
        "from tensorflow.keras.optimizers import Adam\r\n",
        "from tensorflow.keras.callbacks import ModelCheckpoint\r\n",
        "from sklearn.model_selection import train_test_split\r\n",
        "# import scikitplot as skplt\r\n",
        "import matplotlib.pyplot as plt\r\n",
        "import seaborn as sns\r\n",
        "%matplotlib inline"
      ],
      "execution_count": null,
      "outputs": []
    },
    {
      "cell_type": "code",
      "metadata": {
        "id": "ozb1oi951pGL"
      },
      "source": [
        "!cp /content/drive/MyDrive/Files/dermasync/model_c5.h5 /content/model.h5\r\n",
        "# model.load_weights('/content/model.h5')"
      ],
      "execution_count": null,
      "outputs": []
    },
    {
      "cell_type": "code",
      "metadata": {
        "id": "IuaurLB0iBnj"
      },
      "source": [
        "model = tf.keras.models.load_model('model.h5', compile=False)"
      ],
      "execution_count": null,
      "outputs": []
    },
    {
      "cell_type": "code",
      "metadata": {
        "id": "6MfA-ZmLQ0Fr"
      },
      "source": [
        "from sklearn.metrics import precision_score, accuracy_score, confusion_matrix, classification_report"
      ],
      "execution_count": null,
      "outputs": []
    },
    {
      "cell_type": "code",
      "metadata": {
        "id": "HKhRIpCMRYtB",
        "colab": {
          "base_uri": "https://localhost:8080/"
        },
        "outputId": "e1c63bd0-de00-4c69-d5f2-635991853617"
      },
      "source": [
        "pred_images = y_pred = model.predict(batches_test, verbose=1)"
      ],
      "execution_count": null,
      "outputs": [
        {
          "output_type": "stream",
          "text": [
            "96/96 [==============================] - 49s 173ms/step\n"
          ],
          "name": "stdout"
        }
      ]
    },
    {
      "cell_type": "code",
      "metadata": {
        "id": "UCins5l9cXKS"
      },
      "source": [
        "y_pred = np.argmax(y_pred, axis=1)"
      ],
      "execution_count": null,
      "outputs": []
    },
    {
      "cell_type": "code",
      "metadata": {
        "colab": {
          "base_uri": "https://localhost:8080/"
        },
        "id": "J0yqtTcdRjiU",
        "outputId": "376a9113-e5f6-4df4-a504-eedcafaaa175"
      },
      "source": [
        "label2idx = batches_test.class_indices\r\n",
        "idx2label = {v:k for k, v in label2idx.items()}\r\n",
        "idx2label"
      ],
      "execution_count": null,
      "outputs": [
        {
          "output_type": "execute_result",
          "data": {
            "text/plain": [
              "{0: 'Acne',\n",
              " 1: 'Alopecia',\n",
              " 2: 'Drug Eruption',\n",
              " 3: 'Folliculitis',\n",
              " 4: 'Herpes Simplex'}"
            ]
          },
          "metadata": {
            "tags": []
          },
          "execution_count": 37
        }
      ]
    },
    {
      "cell_type": "code",
      "metadata": {
        "id": "out4rC-wXtLo"
      },
      "source": [
        "y_true = np.array(batches_test.classes)"
      ],
      "execution_count": null,
      "outputs": []
    },
    {
      "cell_type": "code",
      "metadata": {
        "colab": {
          "base_uri": "https://localhost:8080/"
        },
        "id": "xdgYIy2MT69V",
        "outputId": "a6666640-b600-4bf0-a5df-613c24fc2a63"
      },
      "source": [
        "accuracy_score(y_true, y_pred)"
      ],
      "execution_count": null,
      "outputs": [
        {
          "output_type": "execute_result",
          "data": {
            "text/plain": [
              "0.18027433050293926"
            ]
          },
          "metadata": {
            "tags": []
          },
          "execution_count": 39
        }
      ]
    },
    {
      "cell_type": "code",
      "metadata": {
        "colab": {
          "base_uri": "https://localhost:8080/"
        },
        "id": "4gR6xtI3dEZf",
        "outputId": "11c9c21e-7ab4-41e5-9648-ff47b9e287e7"
      },
      "source": [
        "precision_score(y_true, y_pred, average='weighted')"
      ],
      "execution_count": null,
      "outputs": [
        {
          "output_type": "stream",
          "text": [
            "/usr/local/lib/python3.7/dist-packages/sklearn/metrics/_classification.py:1272: UndefinedMetricWarning: Precision is ill-defined and being set to 0.0 in labels with no predicted samples. Use `zero_division` parameter to control this behavior.\n",
            "  _warn_prf(average, modifier, msg_start, len(result))\n"
          ],
          "name": "stderr"
        },
        {
          "output_type": "execute_result",
          "data": {
            "text/plain": [
              "0.25443262382582016"
            ]
          },
          "metadata": {
            "tags": []
          },
          "execution_count": 40
        }
      ]
    },
    {
      "cell_type": "code",
      "metadata": {
        "colab": {
          "base_uri": "https://localhost:8080/"
        },
        "id": "BUXLq7wTRh-d",
        "outputId": "7c373010-88a5-4267-c66b-64982301e63f"
      },
      "source": [
        "confusion_matrix(y_true, y_pred)"
      ],
      "execution_count": null,
      "outputs": [
        {
          "output_type": "execute_result",
          "data": {
            "text/plain": [
              "array([[  0,   0, 409,   0,  27],\n",
              "       [  0,   0,  98,   0,   6],\n",
              "       [  0,   0, 171,   0,  39],\n",
              "       [  0,   0, 116,   0,  12],\n",
              "       [  0,   0, 548,   0, 105]])"
            ]
          },
          "metadata": {
            "tags": []
          },
          "execution_count": 41
        }
      ]
    },
    {
      "cell_type": "code",
      "metadata": {
        "colab": {
          "base_uri": "https://localhost:8080/"
        },
        "id": "M3BBR1_ppRU-",
        "outputId": "60d87748-0a99-484a-a95e-e954c087abfa"
      },
      "source": [
        "print(classification_report(y_true, y_pred))"
      ],
      "execution_count": null,
      "outputs": [
        {
          "output_type": "stream",
          "text": [
            "              precision    recall  f1-score   support\n",
            "\n",
            "           0       0.00      0.00      0.00       436\n",
            "           1       0.00      0.00      0.00       104\n",
            "           2       0.13      0.81      0.22       210\n",
            "           3       0.00      0.00      0.00       128\n",
            "           4       0.56      0.16      0.25       653\n",
            "\n",
            "    accuracy                           0.18      1531\n",
            "   macro avg       0.14      0.20      0.09      1531\n",
            "weighted avg       0.25      0.18      0.14      1531\n",
            "\n"
          ],
          "name": "stdout"
        },
        {
          "output_type": "stream",
          "text": [
            "/usr/local/lib/python3.7/dist-packages/sklearn/metrics/_classification.py:1272: UndefinedMetricWarning: Precision and F-score are ill-defined and being set to 0.0 in labels with no predicted samples. Use `zero_division` parameter to control this behavior.\n",
            "  _warn_prf(average, modifier, msg_start, len(result))\n"
          ],
          "name": "stderr"
        }
      ]
    },
    {
      "cell_type": "code",
      "metadata": {
        "id": "3bFJ_whXNe66"
      },
      "source": [
        "from IPython.core.debugger import set_trace"
      ],
      "execution_count": null,
      "outputs": []
    },
    {
      "cell_type": "code",
      "metadata": {
        "id": "vqrhnVm2OTiY"
      },
      "source": [
        "modelc = tf.keras.Sequential()\r\n",
        "modelc.add(tf.keras.Input(shape=(2*len(labels)-2,)))\r\n",
        "modelc.add(Dense(len(labels)**2, activation='relu'))\r\n",
        "modelc.add(Dense(len(labels)**2, activation='relu'))\r\n",
        "modelc.add(Dense(len(labels), activation='relu'))\r\n",
        "modelc.add(Dense(len(labels), activation='sigmoid'))"
      ],
      "execution_count": null,
      "outputs": []
    },
    {
      "cell_type": "code",
      "metadata": {
        "id": "3OyEuO1L7tO_"
      },
      "source": [
        "modelc.compile(optimizer='adam',\r\n",
        "               loss='categorical_crossentropy',\r\n",
        "               metrics=['accuracy'])"
      ],
      "execution_count": null,
      "outputs": []
    },
    {
      "cell_type": "code",
      "metadata": {
        "id": "7OZZBMt5Hf-v"
      },
      "source": [
        "def data_generator(n_img_each, n_text_each, pred_images, pred_texts, batches):\r\n",
        "    '''\r\n",
        "    The data generator for combined (images + text) model.\r\n",
        "    This will take a image, and text data of symptoms from csv, then combine them.\r\n",
        "    pred_images: the list of output probabilites of each class\r\n",
        "    n_img_each: n imgs pred selected each time\r\n",
        "    n_text_each: n rows of each disease from text csv, mostly 1 row, but in / split, some have many rows\r\n",
        "    ''' \r\n",
        "    diseases = labels #df['Skin Problem'].unique()\r\n",
        "    grouped = df.groupby('Skin Problem') #df train\r\n",
        "    # X_images, X_texts, y = list(), list(), list()\r\n",
        "    idxs_disease = {dis: np.where(batches.classes==label2idx[dis])[0] for dis in diseases}\r\n",
        "    # set_trace()\r\n",
        "\r\n",
        "    #dropping last\r\n",
        "    pred_images = pred_images[:, :-1]\r\n",
        "    pred_texts = pred_texts[:, :-1]\r\n",
        "\r\n",
        "    while True:\r\n",
        "        X = pd.DataFrame()\r\n",
        "        y = list()\r\n",
        "        for disease in labels: # to get n samples of each disease    \r\n",
        "            # chosing n images\r\n",
        "            X_images_idxs = np.random.choice(idxs_disease[disease], n_img_each)\r\n",
        "            X_images = pred_images[X_images_idxs]\r\n",
        "\r\n",
        "            # chosing n text\r\n",
        "            group = grouped.get_group(disease)\r\n",
        "            group_idxs = group.index\r\n",
        "            chosen_idxs = np.random.choice(group_idxs, n_text_each)\r\n",
        "            # chosen_rows = df.iloc[chosen_idxs]\r\n",
        "            # set_trace()\r\n",
        "            X_texts = pred_texts[chosen_idxs]\r\n",
        "\r\n",
        "            # merging image and text preds\r\n",
        "            merged = [np.concatenate([img, txt]) for img in X_images for txt in X_texts]\r\n",
        "            X = X.append(merged)\r\n",
        "            y.extend([disease] * len(merged))\r\n",
        "        # print(X_images, X_texts)\r\n",
        "       \r\n",
        "        # y = np.array(y).reshape(-1, 1)\r\n",
        "        # y = ency.transform(y).toarray()\r\n",
        "        yield np.array(X), y\r\n",
        "\r\n",
        "pred_texts = z\r\n",
        "n_img_each = 64\r\n",
        "n_text_each = 10\r\n",
        "epochs = 10"
      ],
      "execution_count": null,
      "outputs": []
    },
    {
      "cell_type": "code",
      "metadata": {
        "id": "fAaI8rk274fS"
      },
      "source": [
        "pred_texts = z\r\n",
        "n_img_each = 32\r\n",
        "n_text_each = 5\r\n",
        "epochs = 10\r\n",
        "dg = data_generator(n_img_each, n_text_each, \r\n",
        "                                    pred_images, pred_texts, batches_train)\r\n",
        "history = modelc.fit(dg,\r\n",
        "                     steps_per_epoch=train_steps,\r\n",
        "                     epochs=epochs)"
      ],
      "execution_count": null,
      "outputs": []
    },
    {
      "cell_type": "code",
      "metadata": {
        "id": "KgD-xXT2VSgU"
      },
      "source": [
        "val = data_generator(1, 1,pred_images, pred_texts, batches_train)\r\n",
        "# modelc.evaluate(val) #this never stops"
      ],
      "execution_count": null,
      "outputs": []
    },
    {
      "cell_type": "code",
      "metadata": {
        "id": "Gj_PveWOafSr"
      },
      "source": [
        "modelc.save('model_merged.h5')"
      ],
      "execution_count": null,
      "outputs": []
    },
    {
      "cell_type": "code",
      "metadata": {
        "id": "O84l5oYsW9U7"
      },
      "source": [
        "# !cp /content/model_merged.h5 /content/drive/MyDrive/Files/dermasync/model_merged_5cla5"
      ],
      "execution_count": null,
      "outputs": []
    },
    {
      "cell_type": "code",
      "metadata": {
        "id": "kYeG0pMkPQjV"
      },
      "source": [
        ""
      ],
      "execution_count": null,
      "outputs": []
    },
    {
      "cell_type": "code",
      "metadata": {
        "id": "_-lsmLXlPRS3"
      },
      "source": [
        "# training sklearn model"
      ],
      "execution_count": null,
      "outputs": []
    },
    {
      "cell_type": "code",
      "metadata": {
        "id": "G7LEvIELQSbI"
      },
      "source": [
        "from sklearn.tree import DecisionTreeClassifier\r\n",
        "classifier = DecisionTreeClassifier(criterion='entropy',random_state=0) "
      ],
      "execution_count": null,
      "outputs": []
    },
    {
      "cell_type": "code",
      "metadata": {
        "colab": {
          "base_uri": "https://localhost:8080/"
        },
        "id": "wBkP8riwSQXM",
        "outputId": "470f7acd-faa0-4093-b289-894ddc55d61a"
      },
      "source": [
        "classifier.fit(dgx, dgy)"
      ],
      "execution_count": null,
      "outputs": [
        {
          "output_type": "execute_result",
          "data": {
            "text/plain": [
              "DecisionTreeClassifier(ccp_alpha=0.0, class_weight=None, criterion='entropy',\n",
              "                       max_depth=None, max_features=None, max_leaf_nodes=None,\n",
              "                       min_impurity_decrease=0.0, min_impurity_split=None,\n",
              "                       min_samples_leaf=1, min_samples_split=2,\n",
              "                       min_weight_fraction_leaf=0.0, presort='deprecated',\n",
              "                       random_state=0, splitter='best')"
            ]
          },
          "metadata": {
            "tags": []
          },
          "execution_count": 86
        }
      ]
    },
    {
      "cell_type": "code",
      "metadata": {
        "id": "jQNoUja5QYaV"
      },
      "source": [
        "dgpred = classifier.predict(dgx)"
      ],
      "execution_count": null,
      "outputs": []
    },
    {
      "cell_type": "code",
      "metadata": {
        "colab": {
          "base_uri": "https://localhost:8080/"
        },
        "id": "4KQqX68jSXiS",
        "outputId": "ebdd69b4-d6ef-4fcc-93b9-0c106e864132"
      },
      "source": [
        "accuracy_score(dgy, dgpred)"
      ],
      "execution_count": null,
      "outputs": [
        {
          "output_type": "execute_result",
          "data": {
            "text/plain": [
              "1.0"
            ]
          },
          "metadata": {
            "tags": []
          },
          "execution_count": 88
        }
      ]
    },
    {
      "cell_type": "code",
      "metadata": {
        "id": "Nh-2UGJ9WSsV"
      },
      "source": [
        "import joblib"
      ],
      "execution_count": null,
      "outputs": []
    },
    {
      "cell_type": "code",
      "metadata": {
        "colab": {
          "base_uri": "https://localhost:8080/"
        },
        "id": "zBDwcwjhRRAP",
        "outputId": "ba2d480a-3474-4cc8-eedb-8025a31222dc"
      },
      "source": [
        "joblib.dump(classifier, 'classdtmerged.joblib')"
      ],
      "execution_count": null,
      "outputs": [
        {
          "output_type": "execute_result",
          "data": {
            "text/plain": [
              "['classdtmerged.joblib']"
            ]
          },
          "metadata": {
            "tags": []
          },
          "execution_count": 90
        }
      ]
    },
    {
      "cell_type": "code",
      "metadata": {
        "colab": {
          "base_uri": "https://localhost:8080/"
        },
        "id": "f84gjdzKSgWe",
        "outputId": "d76c4b59-4ea9-4258-a24b-54235f43f9fe"
      },
      "source": [
        "classifier.classes_"
      ],
      "execution_count": null,
      "outputs": [
        {
          "output_type": "execute_result",
          "data": {
            "text/plain": [
              "array(['Acne', 'Alopecia', 'Drug Eruption', 'Folliculitis',\n",
              "       'Herpes Simplex'], dtype='<U32')"
            ]
          },
          "metadata": {
            "tags": []
          },
          "execution_count": 91
        }
      ]
    },
    {
      "cell_type": "code",
      "metadata": {
        "colab": {
          "base_uri": "https://localhost:8080/"
        },
        "id": "k_JhjBjgRKYo",
        "outputId": "24e97b5f-4b78-4972-e030-50b355a398dd"
      },
      "source": [
        "dg = data_generator(n_img_each, n_text_each, \r\n",
        "                                    pred_images, pred_texts, batches_train)\r\n",
        "dgx, dgy = [], np.array([])\r\n",
        "for _ in range(10):\r\n",
        "    dgxx, dgyy = next(dg)\r\n",
        "    dgx.extend(dgxx)\r\n",
        "    dgy = np.append(dgy, dgyy)\r\n",
        "print(len(dgx), dgy.shape)"
      ],
      "execution_count": null,
      "outputs": [
        {
          "output_type": "stream",
          "text": [
            "32000 (32000,)\n"
          ],
          "name": "stdout"
        }
      ]
    },
    {
      "cell_type": "code",
      "metadata": {
        "id": "dFdJ_B6CU95v"
      },
      "source": [
        ""
      ],
      "execution_count": null,
      "outputs": []
    }
  ]
}