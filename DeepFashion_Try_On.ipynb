{
  "nbformat": 4,
  "nbformat_minor": 0,
  "metadata": {
    "colab": {
      "name": "DeepFashion_Try_On.ipynb",
      "provenance": [],
      "collapsed_sections": [],
      "authorship_tag": "ABX9TyMlfAcApj5k4kTY+9Di4ZK2",
      "include_colab_link": true
    },
    "kernelspec": {
      "name": "python3",
      "display_name": "Python 3"
    },
    "accelerator": "GPU"
  },
  "cells": [
    {
      "cell_type": "markdown",
      "metadata": {
        "id": "view-in-github",
        "colab_type": "text"
      },
      "source": [
        "<a href=\"https://colab.research.google.com/github/malraharsh/temp2/blob/master/DeepFashion_Try_On.ipynb\" target=\"_parent\"><img src=\"https://colab.research.google.com/assets/colab-badge.svg\" alt=\"Open In Colab\"/></a>"
      ]
    },
    {
      "cell_type": "code",
      "metadata": {
        "id": "KkRR2mREKsKW"
      },
      "source": [
        "from IPython.display import clear_output"
      ],
      "execution_count": 23,
      "outputs": []
    },
    {
      "cell_type": "code",
      "metadata": {
        "colab": {
          "base_uri": "https://localhost:8080/"
        },
        "id": "mZ3u8EhdI-jz",
        "outputId": "a903378d-4871-4a01-f3c6-5c3b80111651"
      },
      "source": [
        "!pip install gdown"
      ],
      "execution_count": 8,
      "outputs": [
        {
          "output_type": "stream",
          "text": [
            "Requirement already satisfied: gdown in /usr/local/lib/python3.6/dist-packages (3.6.4)\n",
            "Requirement already satisfied: tqdm in /usr/local/lib/python3.6/dist-packages (from gdown) (4.41.1)\n",
            "Requirement already satisfied: six in /usr/local/lib/python3.6/dist-packages (from gdown) (1.15.0)\n",
            "Requirement already satisfied: requests in /usr/local/lib/python3.6/dist-packages (from gdown) (2.23.0)\n",
            "Requirement already satisfied: chardet<4,>=3.0.2 in /usr/local/lib/python3.6/dist-packages (from requests->gdown) (3.0.4)\n",
            "Requirement already satisfied: idna<3,>=2.5 in /usr/local/lib/python3.6/dist-packages (from requests->gdown) (2.10)\n",
            "Requirement already satisfied: urllib3!=1.25.0,!=1.25.1,<1.26,>=1.21.1 in /usr/local/lib/python3.6/dist-packages (from requests->gdown) (1.24.3)\n",
            "Requirement already satisfied: certifi>=2017.4.17 in /usr/local/lib/python3.6/dist-packages (from requests->gdown) (2020.12.5)\n"
          ],
          "name": "stdout"
        }
      ]
    },
    {
      "cell_type": "code",
      "metadata": {
        "colab": {
          "base_uri": "https://localhost:8080/"
        },
        "id": "wvzP4NZ6GtAO",
        "outputId": "fa56896d-c9ee-46d8-ab69-9cc00beaf6e7"
      },
      "source": [
        "!pip install tensorboardX"
      ],
      "execution_count": 9,
      "outputs": [
        {
          "output_type": "stream",
          "text": [
            "Requirement already satisfied: tensorboardX in /usr/local/lib/python3.6/dist-packages (2.1)\n",
            "Requirement already satisfied: numpy in /usr/local/lib/python3.6/dist-packages (from tensorboardX) (1.19.5)\n",
            "Requirement already satisfied: six in /usr/local/lib/python3.6/dist-packages (from tensorboardX) (1.15.0)\n",
            "Requirement already satisfied: protobuf>=3.8.0 in /usr/local/lib/python3.6/dist-packages (from tensorboardX) (3.12.4)\n",
            "Requirement already satisfied: setuptools in /usr/local/lib/python3.6/dist-packages (from protobuf>=3.8.0->tensorboardX) (51.1.1)\n"
          ],
          "name": "stdout"
        }
      ]
    },
    {
      "cell_type": "code",
      "metadata": {
        "colab": {
          "base_uri": "https://localhost:8080/"
        },
        "id": "mEewzX6lGQQu",
        "outputId": "6ae606f5-f248-4c04-86a9-de35326d8ff3"
      },
      "source": [
        "!git clone https://github.com/switchablenorms/DeepFashion_Try_On.git"
      ],
      "execution_count": 13,
      "outputs": [
        {
          "output_type": "stream",
          "text": [
            "fatal: destination path 'DeepFashion_Try_On' already exists and is not an empty directory.\n"
          ],
          "name": "stdout"
        }
      ]
    },
    {
      "cell_type": "code",
      "metadata": {
        "colab": {
          "base_uri": "https://localhost:8080/"
        },
        "id": "u59t36D9IMKG",
        "outputId": "770cb908-7cf6-417d-dda8-246d6243ec49"
      },
      "source": [
        "%cd /content/"
      ],
      "execution_count": 28,
      "outputs": [
        {
          "output_type": "stream",
          "text": [
            "/content\n"
          ],
          "name": "stdout"
        }
      ]
    },
    {
      "cell_type": "code",
      "metadata": {
        "colab": {
          "base_uri": "https://localhost:8080/"
        },
        "id": "xb_UcTJLH8Zu",
        "outputId": "1e8f62ba-eb54-402a-db00-1f0760d4cd68"
      },
      "source": [
        "#data\r\n",
        "!gdown --id 1tE7hcVFm8Td8kRh5iYRBSDFdvZIkbUIR"
      ],
      "execution_count": 21,
      "outputs": [
        {
          "output_type": "stream",
          "text": [
            "Downloading...\n",
            "From: https://drive.google.com/uc?id=1tE7hcVFm8Td8kRh5iYRBSDFdvZIkbUIR\n",
            "To: /content/Data_preprocessing.zip\n",
            "143MB [00:02, 51.4MB/s]\n"
          ],
          "name": "stdout"
        }
      ]
    },
    {
      "cell_type": "code",
      "metadata": {
        "id": "exgCrmKvKCdX"
      },
      "source": [
        "!unzip /content/Data_preprocessing.zip -d /content/DeepFashion_Try_On/Data_preprocessing\r\n",
        "clear_output()"
      ],
      "execution_count": 24,
      "outputs": []
    },
    {
      "cell_type": "code",
      "metadata": {
        "colab": {
          "base_uri": "https://localhost:8080/"
        },
        "id": "o0dlYx9mMVuK",
        "outputId": "eab7a92f-1872-4e10-df47-afa90e6e6061"
      },
      "source": [
        "#checkpoints\r\n",
        "!gdown --id 1UWT6esQIU_d4tUm8cjxDKMhB8joQbrFx"
      ],
      "execution_count": 29,
      "outputs": [
        {
          "output_type": "stream",
          "text": [
            "Downloading...\n",
            "From: https://drive.google.com/uc?id=1UWT6esQIU_d4tUm8cjxDKMhB8joQbrFx\n",
            "To: /content/ACGPN_checkpoints.zip\n",
            "524MB [00:02, 182MB/s]\n"
          ],
          "name": "stdout"
        }
      ]
    },
    {
      "cell_type": "code",
      "metadata": {
        "colab": {
          "base_uri": "https://localhost:8080/"
        },
        "id": "NLzX-k5IMpD5",
        "outputId": "2bf9e691-0613-4ec5-8653-91860350d5db"
      },
      "source": [
        "!unzip /content/ACGPN_checkpoints.zip -d /content/DeepFashion_Try_On/ACGPN_inference/checkpoints\r\n",
        "clear_output()"
      ],
      "execution_count": 30,
      "outputs": [
        {
          "output_type": "stream",
          "text": [
            "Archive:  /content/ACGPN_checkpoints.zip\n",
            "  inflating: /content/DeepFashion_Try_On/ACGPN_inference/checkpoints/label2city/latest_net_G.pth  \n",
            "  inflating: /content/DeepFashion_Try_On/ACGPN_inference/checkpoints/label2city/latest_net_G1.pth  \n",
            "  inflating: /content/DeepFashion_Try_On/ACGPN_inference/checkpoints/label2city/latest_net_G2.pth  \n",
            "  inflating: /content/DeepFashion_Try_On/ACGPN_inference/checkpoints/label2city/latest_net_U.pth  \n",
            "replace /content/DeepFashion_Try_On/ACGPN_inference/checkpoints/label2city/opt.txt? [y]es, [n]o, [A]ll, [N]one, [r]ename: A\n",
            "  inflating: /content/DeepFashion_Try_On/ACGPN_inference/checkpoints/label2city/opt.txt  \n"
          ],
          "name": "stdout"
        }
      ]
    },
    {
      "cell_type": "code",
      "metadata": {
        "id": "uzAa5vMeMo1y"
      },
      "source": [
        ""
      ],
      "execution_count": null,
      "outputs": []
    },
    {
      "cell_type": "code",
      "metadata": {
        "colab": {
          "base_uri": "https://localhost:8080/"
        },
        "id": "xBYTy3IgGRnd",
        "outputId": "58c9af17-12b7-422c-8564-4aac73f94664"
      },
      "source": [
        "%cd /content/DeepFashion_Try_On"
      ],
      "execution_count": 31,
      "outputs": [
        {
          "output_type": "stream",
          "text": [
            "/content/DeepFashion_Try_On\n"
          ],
          "name": "stdout"
        }
      ]
    },
    {
      "cell_type": "code",
      "metadata": {
        "colab": {
          "base_uri": "https://localhost:8080/"
        },
        "id": "Fjmb_kMUGjP4",
        "outputId": "38c34c29-c896-47f3-e817-a2e52d3c9e29"
      },
      "source": [
        "%cd ACGPN_inference/"
      ],
      "execution_count": 32,
      "outputs": [
        {
          "output_type": "stream",
          "text": [
            "/content/DeepFashion_Try_On/ACGPN_inference\n"
          ],
          "name": "stdout"
        }
      ]
    },
    {
      "cell_type": "code",
      "metadata": {
        "id": "hh94_0FhGolw"
      },
      "source": [
        "!python test.py"
      ],
      "execution_count": null,
      "outputs": []
    },
    {
      "cell_type": "code",
      "metadata": {
        "id": "P5MpFCx2HbsN"
      },
      "source": [
        "!python tps_grid_gen.py"
      ],
      "execution_count": 34,
      "outputs": []
    },
    {
      "cell_type": "code",
      "metadata": {
        "id": "KWt32tqoQYSI"
      },
      "source": [
        "!python grid_sample.py"
      ],
      "execution_count": 35,
      "outputs": []
    },
    {
      "cell_type": "code",
      "metadata": {
        "id": "-4roriOTSelo"
      },
      "source": [
        ""
      ],
      "execution_count": null,
      "outputs": []
    }
  ]
}